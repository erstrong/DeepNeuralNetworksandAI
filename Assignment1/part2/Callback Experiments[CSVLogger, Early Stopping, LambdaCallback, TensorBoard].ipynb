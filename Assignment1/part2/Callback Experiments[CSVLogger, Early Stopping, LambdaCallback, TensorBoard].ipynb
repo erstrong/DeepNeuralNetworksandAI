{
 "cells": [
  {
   "cell_type": "code",
   "execution_count": 13,
   "metadata": {},
   "outputs": [],
   "source": [
    "import tensorflow as tf\n",
    "import multiprocessing as mp\n",
    "from keras.datasets import cifar10\n",
    "from keras.models import Sequential\n",
    "from keras.layers import Dense\n",
    "from keras.layers import Dropout\n",
    "from keras.optimizers import SGD\n",
    "from keras.utils import np_utils\n",
    "from keras import backend as K\n",
    "from keras.callbacks import CSVLogger, EarlyStopping"
   ]
  },
  {
   "cell_type": "code",
   "execution_count": 14,
   "metadata": {},
   "outputs": [],
   "source": [
    "def get_model(neurons_in_layer, number_of_layers=2, lr=0.1, activation_function='relu', dropout_rates=0.2):\n",
    "    \"\"\"\n",
    "    Design the model with Multilevel Perceptrons\n",
    "    :return:\n",
    "    \"\"\"\n",
    "    model = Sequential()\n",
    "\n",
    "    model.add(Dense(neurons_in_layer, activation=activation_function, input_shape=(3072,)))\n",
    "    model.add(Dropout(dropout_rates))\n",
    "    for i in range(number_of_layers-1):\n",
    "        model.add(Dense(neurons_in_layer, activation=activation_function))\n",
    "        model.add(Dropout(dropout_rates))\n",
    "\n",
    "    model.add(Dense(num_classes, activation='softmax'))\n",
    "\n",
    "    sgd = SGD(lr=lr, decay=1e-6, nesterov=True)\n",
    "\n",
    "    model.compile(loss='categorical_crossentropy', optimizer=sgd, metrics=['accuracy'])\n",
    "    model.summary()\n",
    "    return model"
   ]
  },
  {
   "cell_type": "code",
   "execution_count": 15,
   "metadata": {},
   "outputs": [],
   "source": [
    "def get_preprocessed_data(x_train, x_test, y_train, y_test):\n",
    "    \"\"\"\n",
    "    Preprocess images. convert them into vector.\n",
    "    :return:\n",
    "    \"\"\"\n",
    "    x_train = x_train.reshape(50000, 3072)\n",
    "    x_test = x_test.reshape(10000, 3072)\n",
    "    x_train = x_train.astype('float32')\n",
    "    x_test = x_test.astype('float32')\n",
    "    x_train /= 255\n",
    "    x_test /= 255\n",
    "\n",
    "    y_train = np_utils.to_categorical(y_train, num_classes)\n",
    "    y_test = np_utils.to_categorical(y_test, num_classes)\n",
    "\n",
    "    return x_train, x_test, y_train, y_test"
   ]
  },
  {
   "cell_type": "code",
   "execution_count": 16,
   "metadata": {},
   "outputs": [],
   "source": [
    "def run(epochs, batch_size, neurons_in_layer, number_of_layers, lr, activation_function, dropout_rates,\n",
    "        x_train, x_test, y_train, y_test, callbacks=[]):\n",
    "    x_train, x_test, y_train, y_test = get_preprocessed_data(x_train, x_test, y_train, y_test)\n",
    "    model = get_model(neurons_in_layer, number_of_layers, lr, activation_function, dropout_rates)\n",
    "    history = model.fit(x_train, y_train,\n",
    "                        batch_size=batch_size,\n",
    "                        epochs=epochs,\n",
    "                        validation_data=(x_test, y_test),\n",
    "                        callbacks=callbacks)\n",
    "\n",
    "    scores = model.evaluate(x_test, y_test, verbose=0)\n",
    "    print(scores)"
   ]
  },
  {
   "cell_type": "code",
   "execution_count": 19,
   "metadata": {},
   "outputs": [
    {
     "name": "stdout",
     "output_type": "stream",
     "text": [
      "x_train shape: (50000, 3, 32, 32)\n",
      "50000 train samples\n",
      "10000 test samples\n"
     ]
    }
   ],
   "source": [
    "num_classes = 10\n",
    "\n",
    "if K.backend() == 'tensorflow':\n",
    "    K.set_image_dim_ordering(\"th\")\n",
    "\n",
    "core_num = mp.cpu_count()\n",
    "config = tf.ConfigProto(\n",
    "    inter_op_parallelism_threads=core_num,\n",
    "    intra_op_parallelism_threads=core_num)\n",
    "\n",
    "sess = tf.Session(config=config)\n",
    "\n",
    "(x_train, y_train), (x_test, y_test) = cifar10.load_data()\n",
    "print('x_train shape:', x_train.shape)\n",
    "print(x_train.shape[0], 'train samples')\n",
    "print(x_test.shape[0], 'test samples')\n",
    "\n",
    "# Declare variables\n",
    "epochs = 15\n",
    "batch_size = 32\n",
    "\n",
    "neurons_in_layer = 512\n",
    "number_of_layers = 2\n",
    "lr = 0.1\n",
    "activation_function = 'relu'\n",
    "dropout_rates = 0.2"
   ]
  },
  {
   "cell_type": "code",
   "execution_count": 11,
   "metadata": {},
   "outputs": [
    {
     "name": "stdout",
     "output_type": "stream",
     "text": [
      "_________________________________________________________________\n",
      "Layer (type)                 Output Shape              Param #   \n",
      "=================================================================\n",
      "dense_4 (Dense)              (None, 512)               1573376   \n",
      "_________________________________________________________________\n",
      "dropout_3 (Dropout)          (None, 512)               0         \n",
      "_________________________________________________________________\n",
      "dense_5 (Dense)              (None, 512)               262656    \n",
      "_________________________________________________________________\n",
      "dropout_4 (Dropout)          (None, 512)               0         \n",
      "_________________________________________________________________\n",
      "dense_6 (Dense)              (None, 10)                5130      \n",
      "=================================================================\n",
      "Total params: 1,841,162\n",
      "Trainable params: 1,841,162\n",
      "Non-trainable params: 0\n",
      "_________________________________________________________________\n",
      "Train on 50000 samples, validate on 10000 samples\n",
      "Epoch 1/5\n",
      "50000/50000 [==============================] - 18s 366us/step - loss: 1.9754 - acc: 0.2775 - val_loss: 1.8424 - val_acc: 0.3340\n",
      "Epoch 2/5\n",
      "50000/50000 [==============================] - 19s 373us/step - loss: 1.7998 - acc: 0.3528 - val_loss: 1.7577 - val_acc: 0.3650\n",
      "Epoch 3/5\n",
      "50000/50000 [==============================] - 20s 395us/step - loss: 1.7361 - acc: 0.3739 - val_loss: 1.6810 - val_acc: 0.3924\n",
      "Epoch 4/5\n",
      "50000/50000 [==============================] - 18s 355us/step - loss: 1.6969 - acc: 0.3893 - val_loss: 1.6950 - val_acc: 0.3858\n",
      "Epoch 5/5\n",
      "50000/50000 [==============================] - 20s 391us/step - loss: 1.6658 - acc: 0.4018 - val_loss: 1.6114 - val_acc: 0.4239\n",
      "[1.6114244190216065, 0.4239]\n"
     ]
    }
   ],
   "source": [
    "csv_logger = CSVLogger('training.log')\n",
    "callbacks = [csv_logger]\n",
    "run(epochs, batch_size, neurons_in_layer, number_of_layers, lr, activation_function, dropout_rates, x_train, x_test, y_train, y_test, callbacks)"
   ]
  },
  {
   "cell_type": "code",
   "execution_count": 20,
   "metadata": {},
   "outputs": [
    {
     "name": "stdout",
     "output_type": "stream",
     "text": [
      "_________________________________________________________________\n",
      "Layer (type)                 Output Shape              Param #   \n",
      "=================================================================\n",
      "dense_10 (Dense)             (None, 512)               1573376   \n",
      "_________________________________________________________________\n",
      "dropout_7 (Dropout)          (None, 512)               0         \n",
      "_________________________________________________________________\n",
      "dense_11 (Dense)             (None, 512)               262656    \n",
      "_________________________________________________________________\n",
      "dropout_8 (Dropout)          (None, 512)               0         \n",
      "_________________________________________________________________\n",
      "dense_12 (Dense)             (None, 10)                5130      \n",
      "=================================================================\n",
      "Total params: 1,841,162\n",
      "Trainable params: 1,841,162\n",
      "Non-trainable params: 0\n",
      "_________________________________________________________________\n",
      "Train on 50000 samples, validate on 10000 samples\n",
      "Epoch 1/15\n",
      "50000/50000 [==============================] - 17s 348us/step - loss: 1.9757 - acc: 0.2769 - val_loss: 1.7753 - val_acc: 0.3500\n",
      "Epoch 2/15\n",
      "50000/50000 [==============================] - 17s 342us/step - loss: 1.7994 - acc: 0.3499 - val_loss: 1.7895 - val_acc: 0.3283\n",
      "Epoch 3/15\n",
      "50000/50000 [==============================] - 18s 351us/step - loss: 1.7329 - acc: 0.3769 - val_loss: 1.6687 - val_acc: 0.4006\n",
      "Epoch 4/15\n",
      "50000/50000 [==============================] - 18s 351us/step - loss: 1.6973 - acc: 0.3870 - val_loss: 1.6289 - val_acc: 0.4190\n",
      "Epoch 5/15\n",
      "50000/50000 [==============================] - 18s 353us/step - loss: 1.6645 - acc: 0.4017 - val_loss: 1.6933 - val_acc: 0.3868\n",
      "Epoch 6/15\n",
      "50000/50000 [==============================] - 18s 362us/step - loss: 1.6483 - acc: 0.4075 - val_loss: 1.6134 - val_acc: 0.4149\n",
      "Epoch 7/15\n",
      "50000/50000 [==============================] - 18s 356us/step - loss: 1.6214 - acc: 0.4183 - val_loss: 1.5754 - val_acc: 0.4382\n",
      "Epoch 8/15\n",
      "50000/50000 [==============================] - 18s 356us/step - loss: 1.5997 - acc: 0.4251 - val_loss: 1.6081 - val_acc: 0.4085\n",
      "Epoch 9/15\n",
      "50000/50000 [==============================] - 18s 356us/step - loss: 1.5896 - acc: 0.4280 - val_loss: 1.6040 - val_acc: 0.4270\n",
      "Epoch 00009: early stopping\n",
      "[1.6040232442855835, 0.427]\n"
     ]
    }
   ],
   "source": [
    "earlystopper = EarlyStopping(monitor='val_loss', patience=2, verbose=1)\n",
    "callbacks = [earlystopper]\n",
    "run(epochs, batch_size, neurons_in_layer, number_of_layers, lr, activation_function, dropout_rates, x_train, x_test, y_train, y_test, callbacks)"
   ]
  },
  {
   "cell_type": "code",
   "execution_count": null,
   "metadata": {},
   "outputs": [],
   "source": []
  }
 ],
 "metadata": {
  "kernelspec": {
   "display_name": "Python 3",
   "language": "python",
   "name": "python3"
  },
  "language_info": {
   "codemirror_mode": {
    "name": "ipython",
    "version": 3
   },
   "file_extension": ".py",
   "mimetype": "text/x-python",
   "name": "python",
   "nbconvert_exporter": "python",
   "pygments_lexer": "ipython3",
   "version": "3.6.8"
  }
 },
 "nbformat": 4,
 "nbformat_minor": 2
}
