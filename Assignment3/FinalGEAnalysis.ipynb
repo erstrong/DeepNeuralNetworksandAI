{
 "cells": [
  {
   "cell_type": "code",
   "execution_count": 1,
   "metadata": {},
   "outputs": [],
   "source": [
    "import h2o\n",
    "import pandas as pd\n",
    "from sklearn.metrics import accuracy_score"
   ]
  },
  {
   "cell_type": "code",
   "execution_count": 3,
   "metadata": {},
   "outputs": [
    {
     "name": "stdout",
     "output_type": "stream",
     "text": [
      "Checking whether there is an H2O instance running at http://localhost:54321. connected.\n"
     ]
    },
    {
     "data": {
      "text/html": [
       "<div style=\"overflow:auto\"><table style=\"width:50%\"><tr><td>H2O cluster uptime:</td>\n",
       "<td>12 hours 14 mins</td></tr>\n",
       "<tr><td>H2O cluster timezone:</td>\n",
       "<td>America/New_York</td></tr>\n",
       "<tr><td>H2O data parsing timezone:</td>\n",
       "<td>UTC</td></tr>\n",
       "<tr><td>H2O cluster version:</td>\n",
       "<td>3.22.1.6</td></tr>\n",
       "<tr><td>H2O cluster version age:</td>\n",
       "<td>7 days, 16 hours and 45 minutes </td></tr>\n",
       "<tr><td>H2O cluster name:</td>\n",
       "<td>H2O_from_python_emily_air13_v0k8iv</td></tr>\n",
       "<tr><td>H2O cluster total nodes:</td>\n",
       "<td>1</td></tr>\n",
       "<tr><td>H2O cluster free memory:</td>\n",
       "<td>1.580 Gb</td></tr>\n",
       "<tr><td>H2O cluster total cores:</td>\n",
       "<td>4</td></tr>\n",
       "<tr><td>H2O cluster allowed cores:</td>\n",
       "<td>4</td></tr>\n",
       "<tr><td>H2O cluster status:</td>\n",
       "<td>locked, healthy</td></tr>\n",
       "<tr><td>H2O connection url:</td>\n",
       "<td>http://localhost:54321</td></tr>\n",
       "<tr><td>H2O connection proxy:</td>\n",
       "<td>None</td></tr>\n",
       "<tr><td>H2O internal security:</td>\n",
       "<td>False</td></tr>\n",
       "<tr><td>H2O API Extensions:</td>\n",
       "<td>Amazon S3, XGBoost, Algos, AutoML, Core V3, Core V4</td></tr>\n",
       "<tr><td>Python version:</td>\n",
       "<td>3.6.3 final</td></tr></table></div>"
      ],
      "text/plain": [
       "--------------------------  ---------------------------------------------------\n",
       "H2O cluster uptime:         12 hours 14 mins\n",
       "H2O cluster timezone:       America/New_York\n",
       "H2O data parsing timezone:  UTC\n",
       "H2O cluster version:        3.22.1.6\n",
       "H2O cluster version age:    7 days, 16 hours and 45 minutes\n",
       "H2O cluster name:           H2O_from_python_emily_air13_v0k8iv\n",
       "H2O cluster total nodes:    1\n",
       "H2O cluster free memory:    1.580 Gb\n",
       "H2O cluster total cores:    4\n",
       "H2O cluster allowed cores:  4\n",
       "H2O cluster status:         locked, healthy\n",
       "H2O connection url:         http://localhost:54321\n",
       "H2O connection proxy:\n",
       "H2O internal security:      False\n",
       "H2O API Extensions:         Amazon S3, XGBoost, Algos, AutoML, Core V3, Core V4\n",
       "Python version:             3.6.3 final\n",
       "--------------------------  ---------------------------------------------------"
      ]
     },
     "metadata": {},
     "output_type": "display_data"
    }
   ],
   "source": [
    "h2o.init()"
   ]
  },
  {
   "cell_type": "code",
   "execution_count": 4,
   "metadata": {},
   "outputs": [],
   "source": [
    "model = h2o.load_model('saved_models/h2o_leader/GBM_1_AutoML_20190321_010832')"
   ]
  },
  {
   "cell_type": "code",
   "execution_count": 5,
   "metadata": {},
   "outputs": [
    {
     "name": "stdout",
     "output_type": "stream",
     "text": [
      "\n",
      "ModelMetricsMultinomial: gbm\n",
      "** Reported on train data. **\n",
      "\n",
      "MSE: 0.16083738715028315\n",
      "RMSE: 0.4010453679451779\n",
      "LogLoss: 0.490819441597838\n",
      "Mean Per-Class Error: 0.240199532881742\n",
      "Confusion Matrix: Row labels: Actual class; Column labels: Predicted class\n",
      "\n"
     ]
    },
    {
     "data": {
      "text/html": [
       "<div style=\"overflow:auto\"><table style=\"width:50%\"><tr><td><b>negative</b></td>\n",
       "<td><b>neutral</b></td>\n",
       "<td><b>positive</b></td>\n",
       "<td><b>Error</b></td>\n",
       "<td><b>Rate</b></td></tr>\n",
       "<tr><td>83.0</td>\n",
       "<td>44.0</td>\n",
       "<td>30.0</td>\n",
       "<td>0.4713376</td>\n",
       "<td>74 / 157</td></tr>\n",
       "<tr><td>0.0</td>\n",
       "<td>706.0</td>\n",
       "<td>132.0</td>\n",
       "<td>0.1575179</td>\n",
       "<td>132 / 838</td></tr>\n",
       "<tr><td>0.0</td>\n",
       "<td>60.0</td>\n",
       "<td>594.0</td>\n",
       "<td>0.0917431</td>\n",
       "<td>60 / 654</td></tr>\n",
       "<tr><td>83.0</td>\n",
       "<td>810.0</td>\n",
       "<td>756.0</td>\n",
       "<td>0.1613099</td>\n",
       "<td>266 / 1,649</td></tr></table></div>"
      ],
      "text/plain": [
       "negative    neutral    positive    Error      Rate\n",
       "----------  ---------  ----------  ---------  -----------\n",
       "83          44         30          0.471338   74 / 157\n",
       "0           706        132         0.157518   132 / 838\n",
       "0           60         594         0.0917431  60 / 654\n",
       "83          810        756         0.16131    266 / 1,649"
      ]
     },
     "metadata": {},
     "output_type": "display_data"
    },
    {
     "name": "stdout",
     "output_type": "stream",
     "text": [
      "Top-3 Hit Ratios: \n"
     ]
    },
    {
     "data": {
      "text/html": [
       "<div style=\"overflow:auto\"><table style=\"width:50%\"><tr><td><b>k</b></td>\n",
       "<td><b>hit_ratio</b></td></tr>\n",
       "<tr><td>1</td>\n",
       "<td>0.8386901</td></tr>\n",
       "<tr><td>2</td>\n",
       "<td>0.9775621</td></tr>\n",
       "<tr><td>3</td>\n",
       "<td>1.0</td></tr></table></div>"
      ],
      "text/plain": [
       "k    hit_ratio\n",
       "---  -----------\n",
       "1    0.83869\n",
       "2    0.977562\n",
       "3    1"
      ]
     },
     "metadata": {},
     "output_type": "display_data"
    },
    {
     "data": {
      "text/plain": []
     },
     "execution_count": 5,
     "metadata": {},
     "output_type": "execute_result"
    }
   ],
   "source": [
    "model.model_performance()"
   ]
  },
  {
   "cell_type": "code",
   "execution_count": 6,
   "metadata": {},
   "outputs": [
    {
     "name": "stdout",
     "output_type": "stream",
     "text": [
      "Parse progress: |█████████████████████████████████████████████████████████| 100%\n"
     ]
    }
   ],
   "source": [
    "ge_data = h2o.import_file('data_files/GE_output.csv')\n",
    "\n",
    "predictors = ['IbmScore', 'GCPScore', 'AzureScore', 'AWSPosScore', 'AWSNegScore', 'AWSNeuScore']\n",
    "response = \"ActualLabel\"\n"
   ]
  },
  {
   "cell_type": "code",
   "execution_count": 9,
   "metadata": {},
   "outputs": [
    {
     "name": "stdout",
     "output_type": "stream",
     "text": [
      "gbm prediction progress: |████████████████████████████████████████████████| 100%\n"
     ]
    }
   ],
   "source": [
    "predictions = model.predict(ge_data)"
   ]
  },
  {
   "cell_type": "code",
   "execution_count": 10,
   "metadata": {},
   "outputs": [
    {
     "data": {
      "text/html": [
       "<table>\n",
       "<tr><th>predict  </th><th style=\"text-align: right;\">  negative</th><th style=\"text-align: right;\">  neutral</th><th style=\"text-align: right;\">  positive</th></tr>\n",
       "<tr><td>positive </td><td style=\"text-align: right;\"> 0.0832976</td><td style=\"text-align: right;\"> 0.23979 </td><td style=\"text-align: right;\">  0.676912</td></tr>\n",
       "<tr><td>neutral  </td><td style=\"text-align: right;\"> 0.09598  </td><td style=\"text-align: right;\"> 0.7368  </td><td style=\"text-align: right;\">  0.16722 </td></tr>\n",
       "<tr><td>positive </td><td style=\"text-align: right;\"> 0.0956338</td><td style=\"text-align: right;\"> 0.137474</td><td style=\"text-align: right;\">  0.766893</td></tr>\n",
       "<tr><td>neutral  </td><td style=\"text-align: right;\"> 0.273228 </td><td style=\"text-align: right;\"> 0.430434</td><td style=\"text-align: right;\">  0.296339</td></tr>\n",
       "<tr><td>positive </td><td style=\"text-align: right;\"> 0.384386 </td><td style=\"text-align: right;\"> 0.168962</td><td style=\"text-align: right;\">  0.446652</td></tr>\n",
       "<tr><td>neutral  </td><td style=\"text-align: right;\"> 0.0405986</td><td style=\"text-align: right;\"> 0.775156</td><td style=\"text-align: right;\">  0.184245</td></tr>\n",
       "<tr><td>neutral  </td><td style=\"text-align: right;\"> 0.1328   </td><td style=\"text-align: right;\"> 0.629633</td><td style=\"text-align: right;\">  0.237567</td></tr>\n",
       "<tr><td>neutral  </td><td style=\"text-align: right;\"> 0.284464 </td><td style=\"text-align: right;\"> 0.415534</td><td style=\"text-align: right;\">  0.300002</td></tr>\n",
       "<tr><td>positive </td><td style=\"text-align: right;\"> 0.0564   </td><td style=\"text-align: right;\"> 0.286676</td><td style=\"text-align: right;\">  0.656924</td></tr>\n",
       "<tr><td>neutral  </td><td style=\"text-align: right;\"> 0.224862 </td><td style=\"text-align: right;\"> 0.543016</td><td style=\"text-align: right;\">  0.232122</td></tr>\n",
       "</table>"
      ]
     },
     "metadata": {},
     "output_type": "display_data"
    },
    {
     "data": {
      "text/plain": []
     },
     "execution_count": 10,
     "metadata": {},
     "output_type": "execute_result"
    }
   ],
   "source": [
    "predictions"
   ]
  },
  {
   "cell_type": "code",
   "execution_count": 11,
   "metadata": {},
   "outputs": [],
   "source": [
    "metrics = model.model_performance(ge_data)"
   ]
  },
  {
   "cell_type": "code",
   "execution_count": 12,
   "metadata": {},
   "outputs": [
    {
     "name": "stdout",
     "output_type": "stream",
     "text": [
      "\n",
      "ModelMetricsMultinomial: gbm\n",
      "** Reported on test data. **\n",
      "\n",
      "MSE: 0.3126006387401189\n",
      "RMSE: 0.559107001154626\n",
      "LogLoss: 0.8622143591522115\n",
      "Mean Per-Class Error: 0.5818373117643191\n",
      "Confusion Matrix: Row labels: Actual class; Column labels: Predicted class\n",
      "\n"
     ]
    },
    {
     "data": {
      "text/html": [
       "<div style=\"overflow:auto\"><table style=\"width:50%\"><tr><td><b>negative</b></td>\n",
       "<td><b>neutral</b></td>\n",
       "<td><b>positive</b></td>\n",
       "<td><b>Error</b></td>\n",
       "<td><b>Rate</b></td></tr>\n",
       "<tr><td>0.0</td>\n",
       "<td>6.0</td>\n",
       "<td>1.0</td>\n",
       "<td>1.0</td>\n",
       "<td>7 / 7</td></tr>\n",
       "<tr><td>1.0</td>\n",
       "<td>83.0</td>\n",
       "<td>53.0</td>\n",
       "<td>0.3941606</td>\n",
       "<td>54 / 137</td></tr>\n",
       "<tr><td>1.0</td>\n",
       "<td>12.0</td>\n",
       "<td>24.0</td>\n",
       "<td>0.3513514</td>\n",
       "<td>13 / 37</td></tr>\n",
       "<tr><td>2.0</td>\n",
       "<td>101.0</td>\n",
       "<td>78.0</td>\n",
       "<td>0.4088398</td>\n",
       "<td>74 / 181</td></tr></table></div>"
      ],
      "text/plain": [
       "negative    neutral    positive    Error     Rate\n",
       "----------  ---------  ----------  --------  --------\n",
       "0           6          1           1         7 / 7\n",
       "1           83         53          0.394161  54 / 137\n",
       "1           12         24          0.351351  13 / 37\n",
       "2           101        78          0.40884   74 / 181"
      ]
     },
     "metadata": {},
     "output_type": "display_data"
    },
    {
     "name": "stdout",
     "output_type": "stream",
     "text": [
      "Top-3 Hit Ratios: \n"
     ]
    },
    {
     "data": {
      "text/html": [
       "<div style=\"overflow:auto\"><table style=\"width:50%\"><tr><td><b>k</b></td>\n",
       "<td><b>hit_ratio</b></td></tr>\n",
       "<tr><td>1</td>\n",
       "<td>0.5911602</td></tr>\n",
       "<tr><td>2</td>\n",
       "<td>0.9558011</td></tr>\n",
       "<tr><td>3</td>\n",
       "<td>1.0</td></tr></table></div>"
      ],
      "text/plain": [
       "k    hit_ratio\n",
       "---  -----------\n",
       "1    0.59116\n",
       "2    0.955801\n",
       "3    1"
      ]
     },
     "metadata": {},
     "output_type": "display_data"
    },
    {
     "data": {
      "text/plain": []
     },
     "execution_count": 12,
     "metadata": {},
     "output_type": "execute_result"
    }
   ],
   "source": [
    "metrics"
   ]
  },
  {
   "cell_type": "code",
   "execution_count": 19,
   "metadata": {},
   "outputs": [],
   "source": [
    "pdf = predictions.as_data_frame()\n",
    "vd = pd.read_csv('data_files/GE_output.csv')"
   ]
  },
  {
   "cell_type": "code",
   "execution_count": 20,
   "metadata": {},
   "outputs": [
    {
     "data": {
      "text/plain": [
       "0.5911602209944752"
      ]
     },
     "execution_count": 20,
     "metadata": {},
     "output_type": "execute_result"
    }
   ],
   "source": [
    "accuracy_score(vd['ActualLabel'], pdf['predict'])"
   ]
  },
  {
   "cell_type": "code",
   "execution_count": null,
   "metadata": {},
   "outputs": [],
   "source": []
  }
 ],
 "metadata": {
  "kernelspec": {
   "display_name": "Python 3",
   "language": "python",
   "name": "python3"
  },
  "language_info": {
   "codemirror_mode": {
    "name": "ipython",
    "version": 3
   },
   "file_extension": ".py",
   "mimetype": "text/x-python",
   "name": "python",
   "nbconvert_exporter": "python",
   "pygments_lexer": "ipython3",
   "version": "3.7.2"
  }
 },
 "nbformat": 4,
 "nbformat_minor": 2
}
