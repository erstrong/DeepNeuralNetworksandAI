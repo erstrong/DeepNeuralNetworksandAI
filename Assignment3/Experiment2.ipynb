{
 "cells": [
  {
   "cell_type": "code",
   "execution_count": 123,
   "metadata": {},
   "outputs": [],
   "source": [
    "import pandas as pd\n",
    "import numpy as np\n",
    "\n",
    "import os\n",
    "import pickle\n",
    "import nltk\n",
    "#nltk.download('stopwords')\n",
    "from nltk.corpus import stopwords\n",
    "from sklearn.metrics import confusion_matrix, accuracy_score\n",
    "\n",
    "from keras.preprocessing.text import Tokenizer\n",
    "\n",
    "from keras.layers import Embedding, Flatten, Dense, SimpleRNN\n",
    "from keras.models import Sequential\n",
    "\n",
    "from keras import preprocessing\n",
    "\n",
    "import matplotlib.pyplot as plt \n",
    "\n",
    "\n",
    "from tensorflow.keras.callbacks import EarlyStopping"
   ]
  },
  {
   "cell_type": "markdown",
   "metadata": {},
   "source": [
    "# Data Preprocessing\n",
    "Import the IMBD data set, skipping the most common words"
   ]
  },
  {
   "cell_type": "code",
   "execution_count": 103,
   "metadata": {},
   "outputs": [
    {
     "name": "stdout",
     "output_type": "stream",
     "text": [
      "[nltk_data] Downloading package stopwords to\n",
      "[nltk_data]     /home/voldemort/nltk_data...\n",
      "[nltk_data]   Package stopwords is already up-to-date!\n"
     ]
    }
   ],
   "source": [
    "# References:\n",
    "# https://machinelearningmastery.com/deep-learning-bag-of-words-model-sentiment-analysis/\n",
    "# hhttps://github.com/fchollet/deep-learning-with-python-notebooks/blob/master/6.1-using-word-embeddings.ipynb\n",
    "\n",
    "def preprocess_review(filename):\n",
    "    # open the review\n",
    "    review = open(filename, 'r')\n",
    "    text = review.read()\n",
    "    review.close()\n",
    "    \n",
    "    # remove line break tags\n",
    "    text = text.replace('<br />', ' ')\n",
    "\n",
    "    # remove tokens that are not alphabetic\n",
    "    tokens = text.split()\n",
    "\n",
    "    # filter out stop words with nltk\n",
    "    stop_words = set(stopwords.words('english'))\n",
    "    tokens = [w.lower() for w in tokens if not w in stop_words]\n",
    "    tokens = [w for w in tokens if len(w)>1]\n",
    "    \n",
    "    return ' '.join(tokens)\n",
    "\n",
    "\n",
    "def preprocess_directory(directory):\n",
    "    # Create the list of reviews\n",
    "    text = []\n",
    "\n",
    "    for filename in os.listdir(directory):\n",
    "        if filename.endswith('.txt'):\n",
    "            src = os.getcwd() + '/' + directory + '/' + filename\n",
    "\n",
    "            # Preprocess the review and append it to the list\n",
    "            text.append(preprocess_review(src))\n",
    "\n",
    "    return text"
   ]
  },
  {
   "cell_type": "code",
   "execution_count": 104,
   "metadata": {},
   "outputs": [],
   "source": [
    "imdb_train_neg = preprocess_directory(os.path.join('aclImdb/train/neg'))\n",
    "pickle.dump(imdb_train_neg, open('imdb_train_neg.pkl', 'wb'))"
   ]
  },
  {
   "cell_type": "code",
   "execution_count": 106,
   "metadata": {},
   "outputs": [],
   "source": [
    "imdb_train_pos = preprocess_directory(os.path.join('aclImdb/train/pos'))\n",
    "pickle.dump(imdb_train_pos, open('imdb_train_pos.pkl', 'wb'))\n",
    "\n",
    "imdb_train_neutral = preprocess_directory(os.path.join('aclImdb/train/unsup'))\n",
    "pickle.dump(imdb_train_neutral, open('imdb_train_neutral.pkl', 'wb'))\n",
    "\n",
    "imdb_test_pos = preprocess_directory(os.path.join('aclImdb/test/pos'))\n",
    "pickle.dump(imdb_test_pos, open('imdb_test_pos.pkl', 'wb'))\n",
    "\n",
    "imdb_test_neg = preprocess_directory(os.path.join('aclImdb/test/neg'))\n",
    "pickle.dump(imdb_test_neg, open('imdb_test_neg.pkl', 'wb'))\n"
   ]
  },
  {
   "cell_type": "code",
   "execution_count": 2,
   "metadata": {},
   "outputs": [],
   "source": [
    "imdb_train_pos = pickle.load(open('imdb_train_pos.pkl', 'rb'))\n",
    "imdb_train_neg = pickle.load(open('imdb_train_neg.pkl', 'rb'))\n",
    "\n",
    "imdb_test_pos = pickle.load(open('imdb_test_pos.pkl', 'rb'))\n",
    "imdb_test_neg = pickle.load(open('imdb_test_neg.pkl', 'rb'))"
   ]
  },
  {
   "cell_type": "code",
   "execution_count": 3,
   "metadata": {},
   "outputs": [],
   "source": [
    "train_labels_pos = [1] * len(imdb_train_pos)\n",
    "train_labels_neg = [0] * len(imdb_train_pos)\n",
    "\n",
    "train_data = imdb_train_pos + imdb_train_neg\n",
    "train_labels = train_labels_pos + train_labels_neg"
   ]
  },
  {
   "cell_type": "code",
   "execution_count": 4,
   "metadata": {},
   "outputs": [],
   "source": [
    "test_labels_pos = [1] * len(imdb_test_pos)\n",
    "test_labels_neg = [0] * len(imdb_test_pos)\n",
    "\n",
    "test_data = imdb_test_pos + imdb_test_neg\n",
    "test_labels = test_labels_pos + test_labels_neg"
   ]
  },
  {
   "cell_type": "code",
   "execution_count": 5,
   "metadata": {},
   "outputs": [],
   "source": [
    "train_df = pd.DataFrame({'Text': train_data, 'Sentiment': train_labels})\n",
    "test_df = pd.DataFrame({'Text': test_data, 'Sentiment': test_labels})\n",
    "\n"
   ]
  },
  {
   "cell_type": "code",
   "execution_count": 6,
   "metadata": {},
   "outputs": [],
   "source": [
    "train_df = train_df.sample(frac=1)\n",
    "test_df = test_df.sample(frac=1)"
   ]
  },
  {
   "cell_type": "code",
   "execution_count": 7,
   "metadata": {},
   "outputs": [],
   "source": [
    "train_data = np.asarray(train_df['Text'])\n",
    "train_labels = np.asarray(train_df['Sentiment'])\n",
    "\n",
    "test_data = np.asarray(test_df['Text'])\n",
    "test_labels = np.asarray(test_df['Sentiment'])"
   ]
  },
  {
   "cell_type": "markdown",
   "metadata": {},
   "source": [
    "## Keras Embeddings + MLP"
   ]
  },
  {
   "cell_type": "code",
   "execution_count": 126,
   "metadata": {},
   "outputs": [
    {
     "name": "stdout",
     "output_type": "stream",
     "text": [
      "Found 88065 unique tokens\n"
     ]
    }
   ],
   "source": [
    "tokenizer = Tokenizer(num_words=10000)\n",
    "tokenizer.fit_on_texts(train_data)\n",
    "train_sequences = tokenizer.texts_to_sequences(train_data)\n",
    "test_sequences = tokenizer.texts_to_sequences(test_data)\n",
    "\n",
    "word_index = tokenizer.word_index\n",
    "print('Found {} unique tokens'.format(len(word_index)))\n"
   ]
  },
  {
   "cell_type": "code",
   "execution_count": 128,
   "metadata": {},
   "outputs": [],
   "source": [
    "maxlen=20\n",
    "x_train = preprocessing.sequence.pad_sequences(train_sequences, maxlen=maxlen)\n",
    "x_test = preprocessing.sequence.pad_sequences(test_sequences, maxlen=maxlen)\n"
   ]
  },
  {
   "cell_type": "code",
   "execution_count": 129,
   "metadata": {},
   "outputs": [
    {
     "name": "stdout",
     "output_type": "stream",
     "text": [
      "_________________________________________________________________\n",
      "Layer (type)                 Output Shape              Param #   \n",
      "=================================================================\n",
      "embedding_2 (Embedding)      (None, 20, 8)             80000     \n",
      "_________________________________________________________________\n",
      "flatten_2 (Flatten)          (None, 160)               0         \n",
      "_________________________________________________________________\n",
      "dense_2 (Dense)              (None, 1)                 161       \n",
      "=================================================================\n",
      "Total params: 80,161\n",
      "Trainable params: 80,161\n",
      "Non-trainable params: 0\n",
      "_________________________________________________________________\n",
      "Train on 20000 samples, validate on 5000 samples\n",
      "Epoch 1/10\n",
      "20000/20000 [==============================] - 2s 104us/step - loss: 0.6540 - acc: 0.6576 - val_loss: 0.5770 - val_acc: 0.7424\n",
      "Epoch 2/10\n",
      "20000/20000 [==============================] - 1s 48us/step - loss: 0.4673 - acc: 0.8014 - val_loss: 0.4723 - val_acc: 0.7710\n",
      "Epoch 3/10\n",
      "20000/20000 [==============================] - 2s 89us/step - loss: 0.3819 - acc: 0.8328 - val_loss: 0.4577 - val_acc: 0.7820\n",
      "Epoch 4/10\n",
      "20000/20000 [==============================] - 2s 91us/step - loss: 0.3442 - acc: 0.8491 - val_loss: 0.4564 - val_acc: 0.7844\n",
      "Epoch 5/10\n",
      "20000/20000 [==============================] - 2s 103us/step - loss: 0.3171 - acc: 0.8638 - val_loss: 0.4628 - val_acc: 0.7882\n",
      "Epoch 6/10\n",
      "20000/20000 [==============================] - 2s 100us/step - loss: 0.2944 - acc: 0.8755 - val_loss: 0.4690 - val_acc: 0.7912\n",
      "Epoch 7/10\n",
      "20000/20000 [==============================] - 2s 75us/step - loss: 0.2731 - acc: 0.8881 - val_loss: 0.4777 - val_acc: 0.7894\n",
      "Epoch 8/10\n",
      "20000/20000 [==============================] - 2s 100us/step - loss: 0.2524 - acc: 0.8980 - val_loss: 0.4871 - val_acc: 0.7874\n",
      "Epoch 9/10\n",
      "20000/20000 [==============================] - 2s 82us/step - loss: 0.2325 - acc: 0.9084 - val_loss: 0.4970 - val_acc: 0.7880\n",
      "Epoch 10/10\n",
      "20000/20000 [==============================] - 2s 83us/step - loss: 0.2131 - acc: 0.9192 - val_loss: 0.5078 - val_acc: 0.7862\n"
     ]
    }
   ],
   "source": [
    "model = Sequential()\n",
    "model.add(Embedding(10000, 8, input_length=maxlen))\n",
    "model.add(Flatten())\n",
    "\n",
    "model.add(Dense(1, activation='sigmoid'))\n",
    "model.compile(optimizer='rmsprop', loss='binary_crossentropy', metrics=['acc'])\n",
    "model.summary()\n",
    "\n",
    "history = model.fit(x_train, train_labels,\n",
    "                    epochs=10,\n",
    "                    batch_size=32,\n",
    "                    validation_split=0.2)\n"
   ]
  },
  {
   "cell_type": "code",
   "execution_count": 130,
   "metadata": {},
   "outputs": [
    {
     "name": "stdout",
     "output_type": "stream",
     "text": [
      "25000/25000 [==============================] - 1s 48us/step\n"
     ]
    }
   ],
   "source": [
    "score = model.evaluate(x_test, test_labels, verbose=1)"
   ]
  },
  {
   "cell_type": "code",
   "execution_count": 131,
   "metadata": {},
   "outputs": [
    {
     "name": "stdout",
     "output_type": "stream",
     "text": [
      "Test Loss: 0.47428444431304934 Test Accuracy: 0.792\n"
     ]
    }
   ],
   "source": [
    "print('Test Loss:', score[0], 'Test Accuracy:', score[1])"
   ]
  },
  {
   "cell_type": "code",
   "execution_count": 132,
   "metadata": {},
   "outputs": [
    {
     "data": {
      "image/png": "[encoded data removed]",
      "text/plain": [
       "<Figure size 432x288 with 1 Axes>"
      ]
     },
     "metadata": {
      "needs_background": "light"
     },
     "output_type": "display_data"
    }
   ],
   "source": [
    "plt.plot(history.history['acc'])\n",
    "plt.plot(history.history['val_acc'])\n",
    "plt.title('model accuracy')\n",
    "plt.ylabel('accuracy')\n",
    "plt.xlabel('epoch')\n",
    "plt.legend(['train', 'test'], loc='upper left')\n",
    "plt.show()"
   ]
  },
  {
   "cell_type": "code",
   "execution_count": 133,
   "metadata": {},
   "outputs": [
    {
     "data": {
      "image/png": "[encoded data removed]",
      "text/plain": [
       "<Figure size 432x288 with 1 Axes>"
      ]
     },
     "metadata": {
      "needs_background": "light"
     },
     "output_type": "display_data"
    }
   ],
   "source": [
    "# summarize history for loss\n",
    "plt.plot(history.history['loss'])\n",
    "plt.plot(history.history['val_loss'])\n",
    "plt.title('model loss')\n",
    "plt.ylabel('loss')\n",
    "plt.xlabel('epoch')\n",
    "plt.legend(['train', 'test'], loc='upper left')\n",
    "plt.show()"
   ]
  },
  {
   "cell_type": "markdown",
   "metadata": {},
   "source": [
    "### Second MLP Attempt\n",
    "Let's try increasing the length of the inputs and adding early stopping once the validation scores stop improving"
   ]
  },
  {
   "cell_type": "code",
   "execution_count": 134,
   "metadata": {},
   "outputs": [
    {
     "name": "stdout",
     "output_type": "stream",
     "text": [
      "_________________________________________________________________\n",
      "Layer (type)                 Output Shape              Param #   \n",
      "=================================================================\n",
      "embedding_3 (Embedding)      (None, 50, 8)             80000     \n",
      "_________________________________________________________________\n",
      "flatten_3 (Flatten)          (None, 400)               0         \n",
      "_________________________________________________________________\n",
      "dense_3 (Dense)              (None, 1)                 401       \n",
      "=================================================================\n",
      "Total params: 80,401\n",
      "Trainable params: 80,401\n",
      "Non-trainable params: 0\n",
      "_________________________________________________________________\n",
      "Train on 20000 samples, validate on 5000 samples\n",
      "Epoch 1/50\n",
      "20000/20000 [==============================] - 2s 82us/step - loss: 0.5841 - acc: 0.7346 - val_loss: 0.4383 - val_acc: 0.8144\n",
      "Epoch 2/50\n",
      "20000/20000 [==============================] - 1s 47us/step - loss: 0.3360 - acc: 0.8642 - val_loss: 0.3645 - val_acc: 0.8374\n",
      "Epoch 3/50\n",
      "20000/20000 [==============================] - 1s 48us/step - loss: 0.2722 - acc: 0.8908 - val_loss: 0.3533 - val_acc: 0.8506\n",
      "Epoch 4/50\n",
      "20000/20000 [==============================] - 1s 64us/step - loss: 0.2402 - acc: 0.9032 - val_loss: 0.3562 - val_acc: 0.8500\n"
     ]
    }
   ],
   "source": [
    "maxlen=50\n",
    "x_train = preprocessing.sequence.pad_sequences(train_sequences, maxlen=maxlen)\n",
    "x_test = preprocessing.sequence.pad_sequences(test_sequences, maxlen=maxlen)\n",
    "\n",
    "model = Sequential()\n",
    "# We specify the maximum input length to our Embedding layer\n",
    "# so we can later flatten the embedded inputs\n",
    "model.add(Embedding(10000, 8, input_length=maxlen))\n",
    "\n",
    "model.add(Flatten())\n",
    "\n",
    "# We add the classifier on top\n",
    "model.add(Dense(1, activation='sigmoid'))\n",
    "model.compile(optimizer='rmsprop', loss='binary_crossentropy', metrics=['acc'])\n",
    "model.summary()\n",
    "\n",
    "history = model.fit(x_train, train_labels,\n",
    "                    epochs=50,\n",
    "                    batch_size=32,\n",
    "                    validation_split=0.2, \n",
    "                    callbacks=[EarlyStopping()])"
   ]
  },
  {
   "cell_type": "code",
   "execution_count": 135,
   "metadata": {},
   "outputs": [
    {
     "name": "stdout",
     "output_type": "stream",
     "text": [
      "25000/25000 [==============================] - 1s 48us/step\n"
     ]
    }
   ],
   "source": [
    "score = model.evaluate(x_test, test_labels, verbose=1)"
   ]
  },
  {
   "cell_type": "code",
   "execution_count": 136,
   "metadata": {},
   "outputs": [
    {
     "name": "stdout",
     "output_type": "stream",
     "text": [
      "Test Loss: 0.33549573088645934 Test Accuracy: 0.85348\n"
     ]
    }
   ],
   "source": [
    "print('Test Loss:', score[0], 'Test Accuracy:', score[1])"
   ]
  },
  {
   "cell_type": "code",
   "execution_count": 137,
   "metadata": {},
   "outputs": [
    {
     "data": {
      "image/png": "[encoded data removed]",
      "text/plain": [
       "<Figure size 432x288 with 1 Axes>"
      ]
     },
     "metadata": {
      "needs_background": "light"
     },
     "output_type": "display_data"
    }
   ],
   "source": [
    "\n",
    "plt.plot(history.history['acc'])\n",
    "plt.plot(history.history['val_acc'])\n",
    "plt.title('model accuracy')\n",
    "plt.ylabel('accuracy')\n",
    "plt.xlabel('epoch')\n",
    "plt.legend(['train', 'test'], loc='upper left')\n",
    "plt.show()"
   ]
  },
  {
   "cell_type": "code",
   "execution_count": 138,
   "metadata": {},
   "outputs": [
    {
     "data": {
      "image/png": "[encoded data removed]",
      "text/plain": [
       "<Figure size 432x288 with 1 Axes>"
      ]
     },
     "metadata": {
      "needs_background": "light"
     },
     "output_type": "display_data"
    }
   ],
   "source": [
    "plt.plot(history.history['loss'])\n",
    "plt.plot(history.history['val_loss'])\n",
    "plt.title('model loss')\n",
    "plt.ylabel('loss')\n",
    "plt.xlabel('epoch')\n",
    "plt.legend(['train', 'test'], loc='upper left')\n",
    "plt.show()"
   ]
  },
  {
   "cell_type": "markdown",
   "metadata": {},
   "source": [
    "### Third MLP Attempt\n",
    "That brought some improvement. Let's try increasing the length of the inputs again."
   ]
  },
  {
   "cell_type": "code",
   "execution_count": 140,
   "metadata": {},
   "outputs": [
    {
     "name": "stdout",
     "output_type": "stream",
     "text": [
      "_________________________________________________________________\n",
      "Layer (type)                 Output Shape              Param #   \n",
      "=================================================================\n",
      "embedding_4 (Embedding)      (None, 100, 8)            80000     \n",
      "_________________________________________________________________\n",
      "flatten_4 (Flatten)          (None, 800)               0         \n",
      "_________________________________________________________________\n",
      "dense_4 (Dense)              (None, 1)                 801       \n",
      "=================================================================\n",
      "Total params: 80,801\n",
      "Trainable params: 80,801\n",
      "Non-trainable params: 0\n",
      "_________________________________________________________________\n",
      "Train on 20000 samples, validate on 5000 samples\n",
      "Epoch 1/50\n",
      "20000/20000 [==============================] - 2s 97us/step - loss: 0.6233 - acc: 0.6762 - val_loss: 0.4433 - val_acc: 0.8318\n",
      "Epoch 2/50\n",
      "20000/20000 [==============================] - 2s 114us/step - loss: 0.3125 - acc: 0.8826 - val_loss: 0.3129 - val_acc: 0.8660\n",
      "Epoch 3/50\n",
      "20000/20000 [==============================] - 3s 126us/step - loss: 0.2279 - acc: 0.9132 - val_loss: 0.2984 - val_acc: 0.8742\n",
      "Epoch 4/50\n",
      "20000/20000 [==============================] - 3s 127us/step - loss: 0.1903 - acc: 0.9276 - val_loss: 0.3004 - val_acc: 0.8744\n"
     ]
    }
   ],
   "source": [
    "maxlen=100\n",
    "x_train = preprocessing.sequence.pad_sequences(train_sequences, maxlen=maxlen)\n",
    "x_test = preprocessing.sequence.pad_sequences(test_sequences, maxlen=maxlen)\n",
    "\n",
    "model = Sequential()\n",
    "\n",
    "model.add(Embedding(10000, 8, input_length=maxlen))\n",
    "\n",
    "model.add(Flatten())\n",
    "\n",
    "model.add(Dense(1, activation='sigmoid'))\n",
    "model.compile(optimizer='rmsprop', loss='binary_crossentropy', metrics=['acc'])\n",
    "model.summary()\n",
    "\n",
    "history = model.fit(x_train, train_labels,\n",
    "                    epochs=50,\n",
    "                    batch_size=32,\n",
    "                    validation_split=0.2, \n",
    "                    callbacks=[EarlyStopping()])"
   ]
  },
  {
   "cell_type": "code",
   "execution_count": 141,
   "metadata": {},
   "outputs": [
    {
     "name": "stdout",
     "output_type": "stream",
     "text": [
      "25000/25000 [==============================] - 1s 21us/step\n",
      "Test Loss: 0.2862664505672455 Test Accuracy: 0.87932\n"
     ]
    }
   ],
   "source": [
    "score = model.evaluate(x_test, test_labels, verbose=1)\n",
    "print('Test Loss:', score[0], 'Test Accuracy:', score[1])"
   ]
  },
  {
   "cell_type": "code",
   "execution_count": 142,
   "metadata": {},
   "outputs": [
    {
     "data": {
      "image/png": "[encoded data removed]",
      "text/plain": [
       "<Figure size 432x288 with 1 Axes>"
      ]
     },
     "metadata": {
      "needs_background": "light"
     },
     "output_type": "display_data"
    }
   ],
   "source": [
    "plt.plot(history.history['acc'])\n",
    "plt.plot(history.history['val_acc'])\n",
    "plt.title('model accuracy')\n",
    "plt.ylabel('accuracy')\n",
    "plt.xlabel('epoch')\n",
    "plt.legend(['train', 'test'], loc='upper left')\n",
    "plt.show()"
   ]
  },
  {
   "cell_type": "code",
   "execution_count": 143,
   "metadata": {},
   "outputs": [
    {
     "data": {
      "image/png": "[encoded data removed]",
      "text/plain": [
       "<Figure size 432x288 with 1 Axes>"
      ]
     },
     "metadata": {
      "needs_background": "light"
     },
     "output_type": "display_data"
    }
   ],
   "source": [
    "plt.plot(history.history['loss'])\n",
    "plt.plot(history.history['val_loss'])\n",
    "plt.title('model loss')\n",
    "plt.ylabel('loss')\n",
    "plt.xlabel('epoch')\n",
    "plt.legend(['train', 'test'], loc='upper left')\n",
    "plt.show()"
   ]
  },
  {
   "cell_type": "markdown",
   "metadata": {},
   "source": [
    "## Test on EDGAR data"
   ]
  },
  {
   "cell_type": "code",
   "execution_count": 60,
   "metadata": {},
   "outputs": [],
   "source": [
    "edgar_data = pd.read_json('merged_transcripts.json')"
   ]
  },
  {
   "cell_type": "code",
   "execution_count": 61,
   "metadata": {},
   "outputs": [
    {
     "data": {
      "text/html": [
       "<div>\n",
       "<style scoped>\n",
       "    .dataframe tbody tr th:only-of-type {\n",
       "        vertical-align: middle;\n",
       "    }\n",
       "\n",
       "    .dataframe tbody tr th {\n",
       "        vertical-align: top;\n",
       "    }\n",
       "\n",
       "    .dataframe thead th {\n",
       "        text-align: right;\n",
       "    }\n",
       "</style>\n",
       "<table border=\"1\" class=\"dataframe\">\n",
       "  <thead>\n",
       "    <tr style=\"text-align: right;\">\n",
       "      <th></th>\n",
       "      <th>Sentiment</th>\n",
       "      <th>Text</th>\n",
       "    </tr>\n",
       "  </thead>\n",
       "  <tbody>\n",
       "    <tr>\n",
       "      <th>0</th>\n",
       "      <td>Neutral</td>\n",
       "      <td>Could you catch us up on your latest thinking ...</td>\n",
       "    </tr>\n",
       "    <tr>\n",
       "      <th>1</th>\n",
       "      <td>Neutral</td>\n",
       "      <td>We continue to ramp up the activities for the ...</td>\n",
       "    </tr>\n",
       "    <tr>\n",
       "      <th>10</th>\n",
       "      <td>Neutral</td>\n",
       "      <td>I think, we're …</td>\n",
       "    </tr>\n",
       "    <tr>\n",
       "      <th>100</th>\n",
       "      <td>Neutral</td>\n",
       "      <td>Greg, I wonder if I just get a couple of clari...</td>\n",
       "    </tr>\n",
       "    <tr>\n",
       "      <th>1000</th>\n",
       "      <td>Negative</td>\n",
       "      <td>First, we successfully increased our wallet sh...</td>\n",
       "    </tr>\n",
       "  </tbody>\n",
       "</table>\n",
       "</div>"
      ],
      "text/plain": [
       "     Sentiment                                               Text\n",
       "0      Neutral  Could you catch us up on your latest thinking ...\n",
       "1      Neutral  We continue to ramp up the activities for the ...\n",
       "10     Neutral                                   I think, we're …\n",
       "100    Neutral  Greg, I wonder if I just get a couple of clari...\n",
       "1000  Negative  First, we successfully increased our wallet sh..."
      ]
     },
     "execution_count": 61,
     "metadata": {},
     "output_type": "execute_result"
    }
   ],
   "source": [
    "edgar_data.head()"
   ]
  },
  {
   "cell_type": "code",
   "execution_count": 62,
   "metadata": {},
   "outputs": [
    {
     "data": {
      "text/plain": [
       "(1649, 2)"
      ]
     },
     "execution_count": 62,
     "metadata": {},
     "output_type": "execute_result"
    }
   ],
   "source": [
    "edgar_data.shape"
   ]
  },
  {
   "cell_type": "code",
   "execution_count": 65,
   "metadata": {},
   "outputs": [
    {
     "data": {
      "text/plain": [
       "neutral       529\n",
       "positive      504\n",
       "Neutral       289\n",
       "Positive      121\n",
       "negative      116\n",
       "Negative       37\n",
       " positive      17\n",
       "postive        12\n",
       " neutral        9\n",
       "NaN             6\n",
       "Neural          3\n",
       "Negetive        2\n",
       " negative       2\n",
       " neutral        1\n",
       "neutra;         1\n",
       "Name: Sentiment, dtype: int64"
      ]
     },
     "execution_count": 65,
     "metadata": {},
     "output_type": "execute_result"
    }
   ],
   "source": [
    "edgar_data['Sentiment'].value_counts(dropna=False)"
   ]
  },
  {
   "cell_type": "code",
   "execution_count": 66,
   "metadata": {},
   "outputs": [],
   "source": [
    "edgar_data.replace('Neutral', 'neutral', inplace=True)\n",
    "edgar_data.replace(' neutral', 'neutral', inplace=True)\n",
    "edgar_data.replace(' neutral ', 'neutral', inplace=True)\n",
    "edgar_data.replace('neutra;', 'neutral', inplace=True)\n",
    "edgar_data.replace('Neural', 'neutral', inplace=True)\n",
    "edgar_data.replace('None', 'neutral', inplace=True)\n",
    "edgar_data.replace('Negative', 'negative', inplace=True)\n",
    "edgar_data.replace('Negetive', 'negative', inplace=True)\n",
    "edgar_data.replace(' negative', 'negative', inplace=True)\n",
    "edgar_data.replace('Positive', 'positive', inplace=True)\n",
    "edgar_data.replace(' positive', 'positive', inplace=True)\n",
    "edgar_data.replace(' positive ', 'positive', inplace=True)\n",
    "edgar_data.replace('postive', 'positive', inplace=True)\n",
    "edgar_data.fillna('neutral', inplace=True)"
   ]
  },
  {
   "cell_type": "code",
   "execution_count": 67,
   "metadata": {},
   "outputs": [
    {
     "data": {
      "text/plain": [
       "neutral     838\n",
       "positive    654\n",
       "negative    157\n",
       "Name: Sentiment, dtype: int64"
      ]
     },
     "execution_count": 67,
     "metadata": {},
     "output_type": "execute_result"
    }
   ],
   "source": [
    "edgar_data['Sentiment'].value_counts()"
   ]
  },
  {
   "cell_type": "code",
   "execution_count": 69,
   "metadata": {},
   "outputs": [],
   "source": [
    "edgar_data.to_csv('cleaned_merged_data.csv', index=False)"
   ]
  },
  {
   "cell_type": "code",
   "execution_count": 72,
   "metadata": {},
   "outputs": [],
   "source": [
    "edgar_test = edgar_data[edgar_data['Sentiment'] != 'neutral']"
   ]
  },
  {
   "cell_type": "code",
   "execution_count": 73,
   "metadata": {},
   "outputs": [
    {
     "data": {
      "text/html": [
       "<div>\n",
       "<style scoped>\n",
       "    .dataframe tbody tr th:only-of-type {\n",
       "        vertical-align: middle;\n",
       "    }\n",
       "\n",
       "    .dataframe tbody tr th {\n",
       "        vertical-align: top;\n",
       "    }\n",
       "\n",
       "    .dataframe thead th {\n",
       "        text-align: right;\n",
       "    }\n",
       "</style>\n",
       "<table border=\"1\" class=\"dataframe\">\n",
       "  <thead>\n",
       "    <tr style=\"text-align: right;\">\n",
       "      <th></th>\n",
       "      <th>Sentiment</th>\n",
       "      <th>Text</th>\n",
       "    </tr>\n",
       "  </thead>\n",
       "  <tbody>\n",
       "    <tr>\n",
       "      <th>1000</th>\n",
       "      <td>negative</td>\n",
       "      <td>First, we successfully increased our wallet sh...</td>\n",
       "    </tr>\n",
       "    <tr>\n",
       "      <th>1001</th>\n",
       "      <td>positive</td>\n",
       "      <td>Second, we remained focused on leveraging our ...</td>\n",
       "    </tr>\n",
       "    <tr>\n",
       "      <th>1002</th>\n",
       "      <td>positive</td>\n",
       "      <td>Lastly, we remained focused on continued inves...</td>\n",
       "    </tr>\n",
       "    <tr>\n",
       "      <th>1003</th>\n",
       "      <td>positive</td>\n",
       "      <td>Moving to Page 8. In Equities, as it relates t...</td>\n",
       "    </tr>\n",
       "    <tr>\n",
       "      <th>1004</th>\n",
       "      <td>positive</td>\n",
       "      <td>For 2018, Equities produced net revenues of $7...</td>\n",
       "    </tr>\n",
       "  </tbody>\n",
       "</table>\n",
       "</div>"
      ],
      "text/plain": [
       "     Sentiment                                               Text\n",
       "1000  negative  First, we successfully increased our wallet sh...\n",
       "1001  positive  Second, we remained focused on leveraging our ...\n",
       "1002  positive  Lastly, we remained focused on continued inves...\n",
       "1003  positive  Moving to Page 8. In Equities, as it relates t...\n",
       "1004  positive  For 2018, Equities produced net revenues of $7..."
      ]
     },
     "execution_count": 73,
     "metadata": {},
     "output_type": "execute_result"
    }
   ],
   "source": [
    "edgar_test.head()"
   ]
  },
  {
   "cell_type": "code",
   "execution_count": 74,
   "metadata": {},
   "outputs": [
    {
     "data": {
      "text/plain": [
       "(811, 2)"
      ]
     },
     "execution_count": 74,
     "metadata": {},
     "output_type": "execute_result"
    }
   ],
   "source": [
    "edgar_test.shape"
   ]
  },
  {
   "cell_type": "code",
   "execution_count": 77,
   "metadata": {},
   "outputs": [
    {
     "name": "stderr",
     "output_type": "stream",
     "text": [
      "/usr/lib/python3.7/site-packages/ipykernel_launcher.py:1: SettingWithCopyWarning: \n",
      "A value is trying to be set on a copy of a slice from a DataFrame.\n",
      "Try using .loc[row_indexer,col_indexer] = value instead\n",
      "\n",
      "See the caveats in the documentation: http://pandas.pydata.org/pandas-docs/stable/indexing.html#indexing-view-versus-copy\n",
      "  \"\"\"Entry point for launching an IPython kernel.\n"
     ]
    }
   ],
   "source": [
    "edgar_test['Sentiment'] = edgar_test['Sentiment'].apply(lambda x: 1 if x == 'positive' else 0)"
   ]
  },
  {
   "cell_type": "code",
   "execution_count": 78,
   "metadata": {},
   "outputs": [
    {
     "data": {
      "text/plain": [
       "1    654\n",
       "0    157\n",
       "Name: Sentiment, dtype: int64"
      ]
     },
     "execution_count": 78,
     "metadata": {},
     "output_type": "execute_result"
    }
   ],
   "source": [
    "edgar_test['Sentiment'].value_counts()"
   ]
  },
  {
   "cell_type": "code",
   "execution_count": 79,
   "metadata": {},
   "outputs": [],
   "source": [
    "edgar_test_labels = np.asarray(edgar_test['Sentiment'])"
   ]
  },
  {
   "cell_type": "code",
   "execution_count": 153,
   "metadata": {},
   "outputs": [],
   "source": [
    "edgar_x_test = edgar_test['Text'].tolist()\n",
    "\n",
    "edgar_x_sequences = tokenizer.texts_to_sequences(edgar_x_test)"
   ]
  },
  {
   "cell_type": "code",
   "execution_count": 154,
   "metadata": {},
   "outputs": [],
   "source": [
    "edgar_x_sequences = preprocessing.sequence.pad_sequences(edgar_x_sequences, maxlen=maxlen)"
   ]
  },
  {
   "cell_type": "code",
   "execution_count": 155,
   "metadata": {},
   "outputs": [
    {
     "name": "stdout",
     "output_type": "stream",
     "text": [
      "811/811 [==============================] - 0s 70us/step\n"
     ]
    }
   ],
   "source": [
    "predictions = model.predict(edgar_x_sequences, verbose=1)"
   ]
  },
  {
   "cell_type": "code",
   "execution_count": 157,
   "metadata": {},
   "outputs": [
    {
     "name": "stdout",
     "output_type": "stream",
     "text": [
      "811/811 [==============================] - 0s 41us/step\n"
     ]
    }
   ],
   "source": [
    "scores = model.evaluate(edgar_x_sequences, edgar_test_labels, verbose=1)"
   ]
  },
  {
   "cell_type": "code",
   "execution_count": 159,
   "metadata": {},
   "outputs": [
    {
     "name": "stdout",
     "output_type": "stream",
     "text": [
      "Test Loss: 0.8774671805919172 Test Accuracy: 0.5277435266574714\n"
     ]
    }
   ],
   "source": [
    "print('Test Loss:', scores[0], 'Test Accuracy:', scores[1])"
   ]
  },
  {
   "cell_type": "code",
   "execution_count": 166,
   "metadata": {},
   "outputs": [],
   "source": [
    "cfm = confusion_matrix(edgar_test_labels, np.rint(predictions))"
   ]
  },
  {
   "cell_type": "code",
   "execution_count": 167,
   "metadata": {},
   "outputs": [
    {
     "data": {
      "text/plain": [
       "array([[ 99,  58],\n",
       "       [325, 329]])"
      ]
     },
     "execution_count": 167,
     "metadata": {},
     "output_type": "execute_result"
    }
   ],
   "source": [
    "cfm"
   ]
  },
  {
   "cell_type": "markdown",
   "metadata": {},
   "source": [
    "# Bag of Words"
   ]
  },
  {
   "cell_type": "code",
   "execution_count": 11,
   "metadata": {},
   "outputs": [],
   "source": [
    "tokenizer = Tokenizer(num_words=10000)\n",
    "tokenizer.fit_on_texts(train_data)\n",
    "x_train = tokenizer.texts_to_matrix(train_data, mode='freq')\n",
    "x_test = tokenizer.texts_to_matrix(test_data, mode='freq')"
   ]
  },
  {
   "cell_type": "code",
   "execution_count": 12,
   "metadata": {},
   "outputs": [
    {
     "name": "stdout",
     "output_type": "stream",
     "text": [
      "_________________________________________________________________\n",
      "Layer (type)                 Output Shape              Param #   \n",
      "=================================================================\n",
      "dense_1 (Dense)              (None, 50)                500050    \n",
      "_________________________________________________________________\n",
      "dense_2 (Dense)              (None, 1)                 51        \n",
      "=================================================================\n",
      "Total params: 500,101\n",
      "Trainable params: 500,101\n",
      "Non-trainable params: 0\n",
      "_________________________________________________________________\n",
      "Train on 20000 samples, validate on 5000 samples\n",
      "Epoch 1/50\n",
      "20000/20000 [==============================] - 7s 343us/step - loss: 0.5956 - acc: 0.8113 - val_loss: 0.4774 - val_acc: 0.8468\n",
      "Epoch 2/50\n",
      "20000/20000 [==============================] - 6s 294us/step - loss: 0.3845 - acc: 0.8726 - val_loss: 0.3366 - val_acc: 0.8740\n",
      "Epoch 3/50\n",
      "20000/20000 [==============================] - 6s 293us/step - loss: 0.2902 - acc: 0.8925 - val_loss: 0.2908 - val_acc: 0.8842\n",
      "Epoch 4/50\n",
      "20000/20000 [==============================] - 6s 295us/step - loss: 0.2508 - acc: 0.9046 - val_loss: 0.2683 - val_acc: 0.8964\n",
      "Epoch 5/50\n",
      "20000/20000 [==============================] - 6s 294us/step - loss: 0.2283 - acc: 0.9118 - val_loss: 0.2603 - val_acc: 0.9002\n",
      "Epoch 6/50\n",
      "20000/20000 [==============================] - 6s 292us/step - loss: 0.2128 - acc: 0.9190 - val_loss: 0.2538 - val_acc: 0.8988\n",
      "Epoch 7/50\n",
      "20000/20000 [==============================] - 6s 294us/step - loss: 0.2010 - acc: 0.9244 - val_loss: 0.2525 - val_acc: 0.9002\n",
      "Epoch 8/50\n",
      "20000/20000 [==============================] - 6s 293us/step - loss: 0.1923 - acc: 0.9281 - val_loss: 0.2510 - val_acc: 0.9000\n",
      "Epoch 9/50\n",
      "20000/20000 [==============================] - 6s 293us/step - loss: 0.1847 - acc: 0.9319 - val_loss: 0.2595 - val_acc: 0.9004\n"
     ]
    }
   ],
   "source": [
    "n_words = x_train.shape[1]\n",
    "\n",
    "model = Sequential()\n",
    "\n",
    "model.add(Dense(50, input_shape=(n_words,), activation='relu'))\n",
    "model.add(Dense(1, activation='sigmoid'))\n",
    "model.compile(optimizer='rmsprop', loss='binary_crossentropy', metrics=['acc'])\n",
    "model.summary()\n",
    "\n",
    "history = model.fit(x_train, train_labels,\n",
    "                    epochs=50,\n",
    "                    batch_size=32,\n",
    "                    validation_split=0.2, \n",
    "                    callbacks=[EarlyStopping()])"
   ]
  },
  {
   "cell_type": "code",
   "execution_count": 13,
   "metadata": {},
   "outputs": [
    {
     "name": "stdout",
     "output_type": "stream",
     "text": [
      "25000/25000 [==============================] - 4s 143us/step\n",
      "Test Loss: 0.2813756000137329 Test Accuracy: 0.88668\n"
     ]
    }
   ],
   "source": [
    "score = model.evaluate(x_test, test_labels, verbose=1)\n",
    "print('Test Loss:', score[0], 'Test Accuracy:', score[1])"
   ]
  },
  {
   "cell_type": "code",
   "execution_count": 14,
   "metadata": {},
   "outputs": [
    {
     "data": {
      "image/png": "[encoded data removed]",
      "text/plain": [
       "<Figure size 432x288 with 1 Axes>"
      ]
     },
     "metadata": {
      "needs_background": "light"
     },
     "output_type": "display_data"
    }
   ],
   "source": [
    "plt.plot(history.history['acc'])\n",
    "plt.plot(history.history['val_acc'])\n",
    "plt.title('model accuracy')\n",
    "plt.ylabel('accuracy')\n",
    "plt.xlabel('epoch')\n",
    "plt.legend(['train', 'test'], loc='upper left')\n",
    "plt.show()"
   ]
  },
  {
   "cell_type": "code",
   "execution_count": 15,
   "metadata": {},
   "outputs": [
    {
     "data": {
      "image/png": "[encoded data removed]",
      "text/plain": [
       "<Figure size 432x288 with 1 Axes>"
      ]
     },
     "metadata": {
      "needs_background": "light"
     },
     "output_type": "display_data"
    }
   ],
   "source": [
    "plt.plot(history.history['loss'])\n",
    "plt.plot(history.history['val_loss'])\n",
    "plt.title('model loss')\n",
    "plt.ylabel('loss')\n",
    "plt.xlabel('epoch')\n",
    "plt.legend(['train', 'test'], loc='upper left')\n",
    "plt.show()"
   ]
  },
  {
   "cell_type": "code",
   "execution_count": 23,
   "metadata": {},
   "outputs": [
    {
     "name": "stderr",
     "output_type": "stream",
     "text": [
      "/usr/lib/python3.7/site-packages/ipykernel_launcher.py:3: SettingWithCopyWarning: \n",
      "A value is trying to be set on a copy of a slice from a DataFrame.\n",
      "Try using .loc[row_indexer,col_indexer] = value instead\n",
      "\n",
      "See the caveats in the documentation: http://pandas.pydata.org/pandas-docs/stable/indexing.html#indexing-view-versus-copy\n",
      "  This is separate from the ipykernel package so we can avoid doing imports until\n"
     ]
    }
   ],
   "source": [
    "edgar_data = pd.read_csv('cleaned_merged_data.csv')\n",
    "edgar_test = edgar_data[edgar_data['Sentiment'] != 'neutral']\n",
    "edgar_test['Sentiment'] = edgar_test['Sentiment'].apply(lambda x: 1 if x == 'positive' else 0)"
   ]
  },
  {
   "cell_type": "code",
   "execution_count": 24,
   "metadata": {},
   "outputs": [],
   "source": [
    "edgar_x_test_bow = tokenizer.texts_to_matrix(edgar_test['Text'].tolist(), mode='freq')\n",
    "edgar_test_labels = np.asarray(edgar_test['Sentiment'])"
   ]
  },
  {
   "cell_type": "code",
   "execution_count": 25,
   "metadata": {},
   "outputs": [
    {
     "name": "stdout",
     "output_type": "stream",
     "text": [
      "811/811 [==============================] - 0s 98us/step\n",
      "Test Loss: 0.7389699452902327 Test Accuracy: 0.6818742296404668\n"
     ]
    }
   ],
   "source": [
    "score = model.evaluate(edgar_x_test_bow, edgar_test_labels, verbose=1)\n",
    "print('Test Loss:', score[0], 'Test Accuracy:', score[1])"
   ]
  },
  {
   "cell_type": "code",
   "execution_count": 54,
   "metadata": {},
   "outputs": [
    {
     "name": "stdout",
     "output_type": "stream",
     "text": [
      "811/811 [==============================] - 0s 49us/step\n"
     ]
    }
   ],
   "source": [
    "predictions = model.predict(edgar_x_test_bow, verbose=1)"
   ]
  },
  {
   "cell_type": "code",
   "execution_count": 55,
   "metadata": {},
   "outputs": [
    {
     "data": {
      "text/plain": [
       "array([[ 57, 100],\n",
       "       [158, 496]])"
      ]
     },
     "execution_count": 55,
     "metadata": {},
     "output_type": "execute_result"
    }
   ],
   "source": [
    "cfm = confusion_matrix(edgar_test_labels, np.rint(predictions))\n",
    "cfm"
   ]
  },
  {
   "cell_type": "markdown",
   "metadata": {},
   "source": [
    "# Bag of Words + TF-IDF"
   ]
  },
  {
   "cell_type": "code",
   "execution_count": 8,
   "metadata": {},
   "outputs": [
    {
     "data": {
      "text/plain": [
       "(25000, 74848)"
      ]
     },
     "execution_count": 8,
     "metadata": {},
     "output_type": "execute_result"
    }
   ],
   "source": [
    "# Reference: https://scikit-learn.org/stable/tutorial/text_analytics/working_with_text_data.html\n",
    "\n",
    "from sklearn.feature_extraction.text import CountVectorizer\n",
    "count_vect = CountVectorizer()\n",
    "X_train_counts = count_vect.fit_transform(train_data)\n",
    "X_train_counts.shape"
   ]
  },
  {
   "cell_type": "code",
   "execution_count": 9,
   "metadata": {},
   "outputs": [
    {
     "data": {
      "text/plain": [
       "2611"
      ]
     },
     "execution_count": 9,
     "metadata": {},
     "output_type": "execute_result"
    }
   ],
   "source": [
    "count_vect.vocabulary_.get(u'algorithm')"
   ]
  },
  {
   "cell_type": "code",
   "execution_count": 16,
   "metadata": {},
   "outputs": [
    {
     "data": {
      "text/plain": [
       "(25000, 74848)"
      ]
     },
     "execution_count": 16,
     "metadata": {},
     "output_type": "execute_result"
    }
   ],
   "source": [
    "from sklearn.feature_extraction.text import TfidfTransformer\n",
    "\n",
    "tf_transformer = TfidfTransformer(use_idf=True).fit(X_train_counts)\n",
    "X_train_tf = tf_transformer.transform(X_train_counts)\n",
    "X_train_tf.shape"
   ]
  },
  {
   "cell_type": "code",
   "execution_count": 48,
   "metadata": {},
   "outputs": [],
   "source": [
    "X_test_counts = count_vect.transform(test_data)\n",
    "X_test_tf = tf_transformer.transform(X_test_counts)"
   ]
  },
  {
   "cell_type": "code",
   "execution_count": 21,
   "metadata": {},
   "outputs": [
    {
     "data": {
      "text/plain": [
       "GaussianNB(priors=None, var_smoothing=1e-09)"
      ]
     },
     "execution_count": 21,
     "metadata": {},
     "output_type": "execute_result"
    }
   ],
   "source": [
    "from sklearn.naive_bayes import GaussianNB\n",
    "gnb = GaussianNB()\n",
    "gnb.fit(X_train_tf.toarray(), train_labels)"
   ]
  },
  {
   "cell_type": "code",
   "execution_count": 49,
   "metadata": {},
   "outputs": [],
   "source": [
    "X_test_tf = X_test_tf.toarray()\n",
    "predictions0 = gnb.predict(X_test_tf[:1000])\n",
    "predictions1 = gnb.predict(X_test_tf[1000:5000])\n",
    "predictions2 = gnb.predict(X_test_tf[5000:10000])\n",
    "predictions3 = gnb.predict(X_test_tf[10000:15000])\n",
    "predictions4 = gnb.predict(X_test_tf[15000:20000])\n",
    "predictions5 = gnb.predict(X_test_tf[20000:])\n",
    "predictions = np.concatenate((predictions0, predictions1, predictions2, predictions3, predictions4, predictions5))"
   ]
  },
  {
   "cell_type": "code",
   "execution_count": 50,
   "metadata": {},
   "outputs": [
    {
     "data": {
      "text/plain": [
       "0.572"
      ]
     },
     "execution_count": 50,
     "metadata": {},
     "output_type": "execute_result"
    }
   ],
   "source": [
    "accuracy_score(test_labels, predictions)"
   ]
  },
  {
   "cell_type": "code",
   "execution_count": 51,
   "metadata": {},
   "outputs": [
    {
     "data": {
      "text/plain": [
       "array([[8716, 3784],\n",
       "       [6916, 5584]])"
      ]
     },
     "execution_count": 51,
     "metadata": {},
     "output_type": "execute_result"
    }
   ],
   "source": [
    "cfm = confusion_matrix(test_labels, predictions)\n",
    "cfm"
   ]
  },
  {
   "cell_type": "code",
   "execution_count": 45,
   "metadata": {},
   "outputs": [],
   "source": [
    "edgar_X_test_counts = count_vect.transform(edgar_test['Text'].tolist())\n",
    "edgar_X_test_tf = tf_transformer.transform(edgar_X_test_counts)"
   ]
  },
  {
   "cell_type": "code",
   "execution_count": 52,
   "metadata": {},
   "outputs": [
    {
     "data": {
      "text/plain": [
       "array([[ 93,  64],\n",
       "       [388, 266]])"
      ]
     },
     "execution_count": 52,
     "metadata": {},
     "output_type": "execute_result"
    }
   ],
   "source": [
    "predictions = gnb.predict(edgar_X_test_tf.toarray())\n",
    "cfm = confusion_matrix(edgar_test_labels, predictions)\n",
    "cfm"
   ]
  },
  {
   "cell_type": "code",
   "execution_count": 53,
   "metadata": {},
   "outputs": [
    {
     "data": {
      "text/plain": [
       "0.44266337854500615"
      ]
     },
     "execution_count": 53,
     "metadata": {},
     "output_type": "execute_result"
    }
   ],
   "source": [
    "accuracy_score(edgar_test_labels, predictions)"
   ]
  },
  {
   "cell_type": "markdown",
   "metadata": {},
   "source": [
    "# GLOVE Embeddings"
   ]
  },
  {
   "cell_type": "code",
   "execution_count": 110,
   "metadata": {},
   "outputs": [
    {
     "name": "stdout",
     "output_type": "stream",
     "text": [
      "Found 88065 unique tokens\n"
     ]
    }
   ],
   "source": [
    "maxlen = 100  # We will cut reviews after 100 words\n",
    "max_words = 10000  # We will only consider the top 10,000 words in the dataset\n",
    "\n",
    "tokenizer = Tokenizer(num_words=max_words)\n",
    "tokenizer.fit_on_texts(train_data)\n",
    "train_sequences = tokenizer.texts_to_sequences(train_data)\n",
    "test_sequences = tokenizer.texts_to_sequences(test_data)\n",
    "\n",
    "word_index = tokenizer.word_index\n",
    "print('Found {} unique tokens'.format(len(word_index)))"
   ]
  },
  {
   "cell_type": "code",
   "execution_count": 111,
   "metadata": {},
   "outputs": [],
   "source": [
    "x_train = preprocessing.sequence.pad_sequences(train_sequences, maxlen=maxlen)\n",
    "x_test = preprocessing.sequence.pad_sequences(test_sequences, maxlen=maxlen)"
   ]
  },
  {
   "cell_type": "code",
   "execution_count": 112,
   "metadata": {},
   "outputs": [
    {
     "name": "stdout",
     "output_type": "stream",
     "text": [
      "Found 400000 word vectors.\n"
     ]
    }
   ],
   "source": [
    "glove_dir = 'glove6B'\n",
    "\n",
    "embeddings_index = {}\n",
    "f = open(os.path.join(os.getcwd(), glove_dir, 'glove.6B.100d.txt'))\n",
    "for line in f:\n",
    "    values = line.split()\n",
    "    word = values[0]\n",
    "    coefs = np.asarray(values[1:], dtype='float32')\n",
    "    embeddings_index[word] = coefs\n",
    "f.close()\n",
    "\n",
    "print('Found %s word vectors.' % len(embeddings_index))\n"
   ]
  },
  {
   "cell_type": "code",
   "execution_count": 113,
   "metadata": {},
   "outputs": [],
   "source": [
    "embedding_dim = 100\n",
    "\n",
    "embedding_matrix = np.zeros((max_words, embedding_dim))\n",
    "for word, i in word_index.items():\n",
    "    embedding_vector = embeddings_index.get(word)\n",
    "    if i < max_words:\n",
    "        if embedding_vector is not None:\n",
    "            # Words not found in embedding index will be all-zeros.\n",
    "            embedding_matrix[i] = embedding_vector"
   ]
  },
  {
   "cell_type": "code",
   "execution_count": 114,
   "metadata": {},
   "outputs": [
    {
     "name": "stdout",
     "output_type": "stream",
     "text": [
      "_________________________________________________________________\n",
      "Layer (type)                 Output Shape              Param #   \n",
      "=================================================================\n",
      "embedding_7 (Embedding)      (None, 100, 100)          1000000   \n",
      "_________________________________________________________________\n",
      "flatten_7 (Flatten)          (None, 10000)             0         \n",
      "_________________________________________________________________\n",
      "dense_15 (Dense)             (None, 32)                320032    \n",
      "_________________________________________________________________\n",
      "dense_16 (Dense)             (None, 1)                 33        \n",
      "=================================================================\n",
      "Total params: 1,320,065\n",
      "Trainable params: 1,320,065\n",
      "Non-trainable params: 0\n",
      "_________________________________________________________________\n"
     ]
    }
   ],
   "source": [
    "model = Sequential()\n",
    "model.add(Embedding(max_words, embedding_dim, input_length=maxlen))\n",
    "model.add(Flatten())\n",
    "model.add(Dense(32, activation='relu'))\n",
    "model.add(Dense(1, activation='sigmoid'))\n",
    "model.summary()"
   ]
  },
  {
   "cell_type": "code",
   "execution_count": 115,
   "metadata": {},
   "outputs": [],
   "source": [
    "model.layers[0].set_weights([embedding_matrix])\n",
    "model.layers[0].trainable = False"
   ]
  },
  {
   "cell_type": "code",
   "execution_count": 116,
   "metadata": {},
   "outputs": [
    {
     "name": "stdout",
     "output_type": "stream",
     "text": [
      "Train on 25000 samples, validate on 25000 samples\n",
      "Epoch 1/10\n",
      "25000/25000 [==============================] - 7s 270us/step - loss: 0.5680 - acc: 0.7094 - val_loss: 0.6585 - val_acc: 0.6674\n",
      "Epoch 2/10\n",
      "25000/25000 [==============================] - 7s 291us/step - loss: 0.4405 - acc: 0.7969 - val_loss: 0.5169 - val_acc: 0.7499\n",
      "Epoch 3/10\n",
      "25000/25000 [==============================] - 7s 292us/step - loss: 0.3641 - acc: 0.8358 - val_loss: 0.5856 - val_acc: 0.7346\n"
     ]
    }
   ],
   "source": [
    "model.compile(optimizer='rmsprop',\n",
    "              loss='binary_crossentropy',\n",
    "              metrics=['acc'])\n",
    "history = model.fit(x_train, train_labels,\n",
    "                    epochs=10,\n",
    "                    batch_size=32,\n",
    "                    validation_data=(x_test, test_labels),\n",
    "                    callbacks=[EarlyStopping(patience=1)])\n",
    "model.save_weights('pre_trained_glove_model.h5')"
   ]
  },
  {
   "cell_type": "code",
   "execution_count": 117,
   "metadata": {},
   "outputs": [
    {
     "name": "stdout",
     "output_type": "stream",
     "text": [
      "25000/25000 [==============================] - 0s 18us/step\n",
      "Test Loss: 0.5855996667861938 Test Accuracy: 0.73456\n"
     ]
    }
   ],
   "source": [
    "score = model.evaluate(x_test, test_labels, verbose=1)\n",
    "print('Test Loss:', score[0], 'Test Accuracy:', score[1])"
   ]
  },
  {
   "cell_type": "code",
   "execution_count": 118,
   "metadata": {},
   "outputs": [
    {
     "data": {
      "image/png": "[encoded data removed]",
      "text/plain": [
       "<Figure size 432x288 with 1 Axes>"
      ]
     },
     "metadata": {
      "needs_background": "light"
     },
     "output_type": "display_data"
    }
   ],
   "source": [
    "plt.plot(history.history['acc'])\n",
    "plt.plot(history.history['val_acc'])\n",
    "plt.title('model accuracy')\n",
    "plt.ylabel('accuracy')\n",
    "plt.xlabel('epoch')\n",
    "plt.legend(['train', 'test'], loc='upper left')\n",
    "plt.show()"
   ]
  },
  {
   "cell_type": "code",
   "execution_count": 119,
   "metadata": {},
   "outputs": [
    {
     "data": {
      "image/png": "[encoded data removed]",
      "text/plain": [
       "<Figure size 432x288 with 1 Axes>"
      ]
     },
     "metadata": {
      "needs_background": "light"
     },
     "output_type": "display_data"
    }
   ],
   "source": [
    "plt.plot(history.history['loss'])\n",
    "plt.plot(history.history['val_loss'])\n",
    "plt.title('model loss')\n",
    "plt.ylabel('loss')\n",
    "plt.xlabel('epoch')\n",
    "plt.legend(['train', 'test'], loc='upper left')\n",
    "plt.show()"
   ]
  },
  {
   "cell_type": "code",
   "execution_count": 99,
   "metadata": {},
   "outputs": [],
   "source": [
    "edgar_x_test = edgar_test['Text'].tolist()\n",
    "edgar_x_sequences = tokenizer.texts_to_sequences(edgar_x_test)\n",
    "edgar_x_sequences = preprocessing.sequence.pad_sequences(edgar_x_sequences, maxlen=maxlen)"
   ]
  },
  {
   "cell_type": "code",
   "execution_count": 120,
   "metadata": {},
   "outputs": [
    {
     "name": "stdout",
     "output_type": "stream",
     "text": [
      "811/811 [==============================] - 0s 43us/step\n",
      "Test Loss: 0.9182979278587972 Test Accuracy: 0.5659679409608006\n"
     ]
    }
   ],
   "source": [
    "score = model.evaluate(edgar_x_sequences, edgar_test_labels, verbose=1)\n",
    "print('Test Loss:', score[0], 'Test Accuracy:', score[1])"
   ]
  },
  {
   "cell_type": "code",
   "execution_count": 121,
   "metadata": {},
   "outputs": [
    {
     "name": "stdout",
     "output_type": "stream",
     "text": [
      "811/811 [==============================] - 0s 119us/step\n"
     ]
    }
   ],
   "source": [
    "predictions = model.predict(edgar_x_sequences, verbose=1)"
   ]
  },
  {
   "cell_type": "code",
   "execution_count": 122,
   "metadata": {},
   "outputs": [
    {
     "data": {
      "text/plain": [
       "array([[114,  43],\n",
       "       [309, 345]])"
      ]
     },
     "execution_count": 122,
     "metadata": {},
     "output_type": "execute_result"
    }
   ],
   "source": [
    "cfm = confusion_matrix(edgar_test_labels, np.rint(predictions))\n",
    "cfm"
   ]
  },
  {
   "cell_type": "markdown",
   "metadata": {},
   "source": [
    "## GloVe 2nd Attempt - Tuning\n",
    "In the previous attempt the GloVe embedding weights were fixed. This time we will try tuning them."
   ]
  },
  {
   "cell_type": "code",
   "execution_count": 94,
   "metadata": {},
   "outputs": [
    {
     "name": "stdout",
     "output_type": "stream",
     "text": [
      "_________________________________________________________________\n",
      "Layer (type)                 Output Shape              Param #   \n",
      "=================================================================\n",
      "embedding_5 (Embedding)      (None, 100, 100)          1000000   \n",
      "_________________________________________________________________\n",
      "flatten_5 (Flatten)          (None, 10000)             0         \n",
      "_________________________________________________________________\n",
      "dense_11 (Dense)             (None, 32)                320032    \n",
      "_________________________________________________________________\n",
      "dense_12 (Dense)             (None, 1)                 33        \n",
      "=================================================================\n",
      "Total params: 1,320,065\n",
      "Trainable params: 1,320,065\n",
      "Non-trainable params: 0\n",
      "_________________________________________________________________\n",
      "Train on 25000 samples, validate on 25000 samples\n",
      "Epoch 1/10\n",
      "25000/25000 [==============================] - 6s 242us/step - loss: 0.4867 - acc: 0.7612 - val_loss: 0.3881 - val_acc: 0.8232\n",
      "Epoch 2/10\n",
      "25000/25000 [==============================] - 8s 304us/step - loss: 0.2669 - acc: 0.8907 - val_loss: 0.3806 - val_acc: 0.8358\n",
      "Epoch 3/10\n",
      "25000/25000 [==============================] - 6s 242us/step - loss: 0.1524 - acc: 0.9414 - val_loss: 0.4023 - val_acc: 0.8492\n"
     ]
    }
   ],
   "source": [
    "model = Sequential()\n",
    "model.add(Embedding(max_words, embedding_dim, input_length=maxlen))\n",
    "model.add(Flatten())\n",
    "model.add(Dense(32, activation='relu'))\n",
    "model.add(Dense(1, activation='sigmoid'))\n",
    "model.summary()\n",
    "\n",
    "model.layers[0].set_weights([embedding_matrix])\n",
    "\n",
    "model.compile(optimizer='rmsprop',\n",
    "              loss='binary_crossentropy',\n",
    "              metrics=['acc'])\n",
    "history = model.fit(x_train, train_labels,\n",
    "                    epochs=10,\n",
    "                    batch_size=32,\n",
    "                    validation_data=(x_test, test_labels),\n",
    "                    callbacks = [EarlyStopping(patience=1)])\n",
    "\n",
    "model.save_weights('tuned_glove_model.h5')"
   ]
  },
  {
   "cell_type": "code",
   "execution_count": 95,
   "metadata": {},
   "outputs": [
    {
     "name": "stdout",
     "output_type": "stream",
     "text": [
      "25000/25000 [==============================] - 2s 63us/step\n",
      "Test Loss: 0.4022915400314331 Test Accuracy: 0.84924\n"
     ]
    }
   ],
   "source": [
    "score = model.evaluate(x_test, test_labels, verbose=1)\n",
    "print('Test Loss:', score[0], 'Test Accuracy:', score[1])"
   ]
  },
  {
   "cell_type": "code",
   "execution_count": 96,
   "metadata": {},
   "outputs": [
    {
     "data": {
      "image/png": "[encoded data removed]",
      "text/plain": [
       "<Figure size 432x288 with 1 Axes>"
      ]
     },
     "metadata": {
      "needs_background": "light"
     },
     "output_type": "display_data"
    }
   ],
   "source": [
    "plt.plot(history.history['acc'])\n",
    "plt.plot(history.history['val_acc'])\n",
    "plt.title('model accuracy')\n",
    "plt.ylabel('accuracy')\n",
    "plt.xlabel('epoch')\n",
    "plt.legend(['train', 'test'], loc='upper left')\n",
    "plt.show()"
   ]
  },
  {
   "cell_type": "code",
   "execution_count": 97,
   "metadata": {},
   "outputs": [
    {
     "data": {
      "image/png": "[encoded data removed]",
      "text/plain": [
       "<Figure size 432x288 with 1 Axes>"
      ]
     },
     "metadata": {
      "needs_background": "light"
     },
     "output_type": "display_data"
    }
   ],
   "source": [
    "plt.plot(history.history['loss'])\n",
    "plt.plot(history.history['val_loss'])\n",
    "plt.title('model loss')\n",
    "plt.ylabel('loss')\n",
    "plt.xlabel('epoch')\n",
    "plt.legend(['train', 'test'], loc='upper left')\n",
    "plt.show()"
   ]
  },
  {
   "cell_type": "code",
   "execution_count": 100,
   "metadata": {},
   "outputs": [
    {
     "name": "stdout",
     "output_type": "stream",
     "text": [
      "811/811 [==============================] - 0s 42us/step\n",
      "Test Loss: 0.7718967105251646 Test Accuracy: 0.6769420467087431\n"
     ]
    }
   ],
   "source": [
    "score = model.evaluate(edgar_x_sequences, edgar_test_labels, verbose=1)\n",
    "print('Test Loss:', score[0], 'Test Accuracy:', score[1])"
   ]
  },
  {
   "cell_type": "code",
   "execution_count": 101,
   "metadata": {},
   "outputs": [
    {
     "name": "stdout",
     "output_type": "stream",
     "text": [
      "811/811 [==============================] - 0s 92us/step\n"
     ]
    }
   ],
   "source": [
    "predictions = model.predict(edgar_x_sequences, verbose=1)"
   ]
  },
  {
   "cell_type": "code",
   "execution_count": 103,
   "metadata": {},
   "outputs": [
    {
     "data": {
      "text/plain": [
       "array([[ 66,  91],\n",
       "       [171, 483]])"
      ]
     },
     "execution_count": 103,
     "metadata": {},
     "output_type": "execute_result"
    }
   ],
   "source": [
    "cfm = confusion_matrix(edgar_test_labels, np.rint(predictions))\n",
    "cfm"
   ]
  },
  {
   "cell_type": "markdown",
   "metadata": {},
   "source": [
    "# RNN"
   ]
  },
  {
   "cell_type": "code",
   "execution_count": null,
   "metadata": {},
   "outputs": [],
   "source": []
  }
 ],
 "metadata": {
  "kernelspec": {
   "display_name": "Python 3",
   "language": "python",
   "name": "python3"
  },
  "language_info": {
   "codemirror_mode": {
    "name": "ipython",
    "version": 3
   },
   "file_extension": ".py",
   "mimetype": "text/x-python",
   "name": "python",
   "nbconvert_exporter": "python",
   "pygments_lexer": "ipython3",
   "version": "3.7.2"
  }
 },
 "nbformat": 4,
 "nbformat_minor": 2
}
