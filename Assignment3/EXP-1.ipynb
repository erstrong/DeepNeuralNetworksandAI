{
 "cells": [
  {
   "cell_type": "markdown",
   "metadata": {},
   "source": [
    "# RNN"
   ]
  },
  {
   "cell_type": "code",
   "execution_count": 2,
   "metadata": {},
   "outputs": [
    {
     "name": "stderr",
     "output_type": "stream",
     "text": [
      "Using TensorFlow backend.\n"
     ]
    }
   ],
   "source": [
    "import pandas as pd\n",
    "import numpy as np\n",
    "import pandas as pd\n",
    "import pickle\n",
    "import keras\n",
    "import json\n",
    "import os\n",
    "import time\n",
    "import numpy as np\n",
    "import pandas as pd\n",
    "from sklearn.metrics import confusion_matrix, accuracy_score\n",
    "\n",
    "from sklearn.model_selection import train_test_split\n",
    "from sklearn.metrics import roc_auc_score"
   ]
  },
  {
   "cell_type": "markdown",
   "metadata": {},
   "source": [
    "Loading the text data from the csv file "
   ]
  },
  {
   "cell_type": "code",
   "execution_count": 3,
   "metadata": {},
   "outputs": [
    {
     "name": "stdout",
     "output_type": "stream",
     "text": [
      "(1649, 2)\n"
     ]
    },
    {
     "data": {
      "text/html": [
       "<div>\n",
       "<style>\n",
       "    .dataframe thead tr:only-child th {\n",
       "        text-align: right;\n",
       "    }\n",
       "\n",
       "    .dataframe thead th {\n",
       "        text-align: left;\n",
       "    }\n",
       "\n",
       "    .dataframe tbody tr th {\n",
       "        vertical-align: top;\n",
       "    }\n",
       "</style>\n",
       "<table border=\"1\" class=\"dataframe\">\n",
       "  <thead>\n",
       "    <tr style=\"text-align: right;\">\n",
       "      <th></th>\n",
       "      <th>Sentiment</th>\n",
       "      <th>Text</th>\n",
       "    </tr>\n",
       "  </thead>\n",
       "  <tbody>\n",
       "    <tr>\n",
       "      <th>0</th>\n",
       "      <td>neutral</td>\n",
       "      <td>Could you catch us up on your latest thinking ...</td>\n",
       "    </tr>\n",
       "    <tr>\n",
       "      <th>1</th>\n",
       "      <td>neutral</td>\n",
       "      <td>We continue to ramp up the activities for the ...</td>\n",
       "    </tr>\n",
       "    <tr>\n",
       "      <th>2</th>\n",
       "      <td>neutral</td>\n",
       "      <td>I think, we're …</td>\n",
       "    </tr>\n",
       "    <tr>\n",
       "      <th>3</th>\n",
       "      <td>neutral</td>\n",
       "      <td>Greg, I wonder if I just get a couple of clari...</td>\n",
       "    </tr>\n",
       "    <tr>\n",
       "      <th>4</th>\n",
       "      <td>negative</td>\n",
       "      <td>First, we successfully increased our wallet sh...</td>\n",
       "    </tr>\n",
       "  </tbody>\n",
       "</table>\n",
       "</div>"
      ],
      "text/plain": [
       "  Sentiment                                               Text\n",
       "0   neutral  Could you catch us up on your latest thinking ...\n",
       "1   neutral  We continue to ramp up the activities for the ...\n",
       "2   neutral                                   I think, we're …\n",
       "3   neutral  Greg, I wonder if I just get a couple of clari...\n",
       "4  negative  First, we successfully increased our wallet sh..."
      ]
     },
     "execution_count": 3,
     "metadata": {},
     "output_type": "execute_result"
    }
   ],
   "source": [
    "train = pd.read_csv(\"C:/Users/manoj/Downloads/cleaned_merged_data.csv\") \n",
    "train.Text=train.Text.astype(str) \n",
    "\n",
    "print(train.shape)\n",
    "train.head()"
   ]
  },
  {
   "cell_type": "markdown",
   "metadata": {},
   "source": [
    "Renaming the categories in 0,1,2 "
   ]
  },
  {
   "cell_type": "code",
   "execution_count": 4,
   "metadata": {},
   "outputs": [],
   "source": [
    "train['Sentiment'] = train['Sentiment'].replace({'positive': 0,'negative':1,'neutral':2})\n",
    "\n",
    "X, y = (train['Text'].values, train['Sentiment'].values)"
   ]
  },
  {
   "cell_type": "markdown",
   "metadata": {},
   "source": [
    "Converting the texts into tokens of words and assigning each word to an unique integer and taking maximum of 1000 words into an account for futher analysis"
   ]
  },
  {
   "cell_type": "code",
   "execution_count": 96,
   "metadata": {
    "collapsed": true
   },
   "outputs": [],
   "source": [
    "maxlen = 100  # We will cut reviews after 100 words\n",
    "max_words = 1000\n",
    "\n",
    "from keras.preprocessing.text import Tokenizer\n",
    "from keras.preprocessing.sequence import pad_sequences\n",
    "tk = Tokenizer(num_words=max_words)\n",
    "tk.fit_on_texts(X)\n",
    "X_seq = tk.texts_to_sequences(X)\n",
    "X_pad = pad_sequences(X_seq, maxlen=1000, padding='post')\n",
    "\n"
   ]
  },
  {
   "cell_type": "markdown",
   "metadata": {},
   "source": [
    "About 6385 Unique tokens in the given data"
   ]
  },
  {
   "cell_type": "code",
   "execution_count": 97,
   "metadata": {},
   "outputs": [
    {
     "name": "stdout",
     "output_type": "stream",
     "text": [
      "Found 6385 unique tokens\n"
     ]
    }
   ],
   "source": [
    "word_index = tk.word_index\n",
    "print('Found {} unique tokens'.format(len(word_index)))"
   ]
  },
  {
   "cell_type": "code",
   "execution_count": 98,
   "metadata": {
    "collapsed": true
   },
   "outputs": [],
   "source": [
    "from sklearn.model_selection import train_test_split\n",
    "X_train, X_test, y_train, y_test = train_test_split(X_pad, y, test_size = 0.2, random_state = 1)"
   ]
  },
  {
   "cell_type": "code",
   "execution_count": 99,
   "metadata": {
    "collapsed": true
   },
   "outputs": [],
   "source": [
    "import numpy as np\n",
    "from keras.utils import to_categorical\n",
    "num_classes = len(np.unique(y_train))\n",
    "y_train = to_categorical(y_train, num_classes)\n",
    "y_test = to_categorical(y_test, num_classes)"
   ]
  },
  {
   "cell_type": "markdown",
   "metadata": {},
   "source": [
    "Designing an simpleRNN model to classify the data"
   ]
  },
  {
   "cell_type": "code",
   "execution_count": 102,
   "metadata": {},
   "outputs": [
    {
     "name": "stdout",
     "output_type": "stream",
     "text": [
      "_________________________________________________________________\n",
      "Layer (type)                 Output Shape              Param #   \n",
      "=================================================================\n",
      "embedding_13 (Embedding)     (None, 1000, 32)          32000     \n",
      "_________________________________________________________________\n",
      "simple_rnn_25 (SimpleRNN)    (None, 1000, 32)          2080      \n",
      "_________________________________________________________________\n",
      "simple_rnn_26 (SimpleRNN)    (None, 1000, 32)          2080      \n",
      "_________________________________________________________________\n",
      "simple_rnn_27 (SimpleRNN)    (None, 1000, 32)          2080      \n",
      "_________________________________________________________________\n",
      "simple_rnn_28 (SimpleRNN)    (None, 32)                2080      \n",
      "_________________________________________________________________\n",
      "dense_23 (Dense)             (None, 3)                 99        \n",
      "=================================================================\n",
      "Total params: 40,419\n",
      "Trainable params: 40,419\n",
      "Non-trainable params: 0\n",
      "_________________________________________________________________\n"
     ]
    }
   ],
   "source": [
    "from keras.models import Sequential\n",
    "from keras.layers import Embedding, LSTM, Dense, Dropout, SimpleRNN, Flatten\n",
    "\n",
    "vocabulary_size = 1000\n",
    "embedding_size=32\n",
    "max_word=1000\n",
    "model = Sequential()\n",
    "model.add(Embedding(vocabulary_size, 32,input_length=max_word))\n",
    "model.add(SimpleRNN(32, return_sequences=True))\n",
    "model.add(SimpleRNN(32, return_sequences=True))\n",
    "model.add(SimpleRNN(32, return_sequences=True))\n",
    "model.add(SimpleRNN(32))  # This last layer only returns the last outputs.\n",
    "model.add(Dense(3, activation='softmax'))\n",
    "\n",
    "model.summary()\n",
    "model.compile(loss='binary_crossentropy', optimizer='rmsprop', metrics=['accuracy'])"
   ]
  },
  {
   "cell_type": "code",
   "execution_count": 103,
   "metadata": {},
   "outputs": [
    {
     "name": "stdout",
     "output_type": "stream",
     "text": [
      "Train on 1319 samples, validate on 330 samples\n",
      "Epoch 1/20\n",
      "1319/1319 [==============================] - 15s 11ms/step - loss: 0.5994 - acc: 0.6305 - val_loss: 0.5721 - val_acc: 0.6586\n",
      "Epoch 2/20\n",
      "1319/1319 [==============================] - 13s 10ms/step - loss: 0.5632 - acc: 0.6573 - val_loss: 0.5719 - val_acc: 0.6667\n",
      "Epoch 3/20\n",
      "1319/1319 [==============================] - 13s 10ms/step - loss: 0.5633 - acc: 0.6598 - val_loss: 0.5689 - val_acc: 0.6586\n",
      "Epoch 4/20\n",
      "1319/1319 [==============================] - 13s 10ms/step - loss: 0.5597 - acc: 0.6720 - val_loss: 0.5683 - val_acc: 0.6667\n",
      "Epoch 5/20\n",
      "1319/1319 [==============================] - 13s 10ms/step - loss: 0.5639 - acc: 0.6694 - val_loss: 0.5670 - val_acc: 0.6667\n",
      "Epoch 6/20\n",
      "1319/1319 [==============================] - 13s 10ms/step - loss: 0.5615 - acc: 0.6705 - val_loss: 0.5707 - val_acc: 0.6667\n",
      "Epoch 7/20\n",
      "1319/1319 [==============================] - 13s 10ms/step - loss: 0.5604 - acc: 0.6641 - val_loss: 0.5816 - val_acc: 0.6586\n",
      "Epoch 8/20\n",
      "1319/1319 [==============================] - 13s 10ms/step - loss: 0.5980 - acc: 0.6636 - val_loss: 0.5713 - val_acc: 0.6687\n",
      "Epoch 9/20\n",
      "1319/1319 [==============================] - 13s 10ms/step - loss: 0.5617 - acc: 0.6664 - val_loss: 0.5855 - val_acc: 0.6586\n",
      "Epoch 10/20\n",
      "1319/1319 [==============================] - 13s 10ms/step - loss: 0.5618 - acc: 0.6697 - val_loss: 0.5708 - val_acc: 0.6667\n",
      "Epoch 11/20\n",
      "1319/1319 [==============================] - 13s 10ms/step - loss: 0.5618 - acc: 0.6664 - val_loss: 0.5748 - val_acc: 0.6586\n",
      "Epoch 12/20\n",
      "1319/1319 [==============================] - 13s 10ms/step - loss: 0.5605 - acc: 0.6710 - val_loss: 0.5678 - val_acc: 0.6586\n",
      "Epoch 13/20\n",
      "1319/1319 [==============================] - 13s 10ms/step - loss: 0.5575 - acc: 0.6785 - val_loss: 0.5762 - val_acc: 0.6667\n",
      "Epoch 14/20\n",
      "1319/1319 [==============================] - 13s 10ms/step - loss: 0.5641 - acc: 0.6760 - val_loss: 0.6002 - val_acc: 0.6061\n",
      "Epoch 15/20\n",
      "1319/1319 [==============================] - 13s 10ms/step - loss: 0.5645 - acc: 0.6641 - val_loss: 0.5675 - val_acc: 0.6667\n",
      "Epoch 16/20\n",
      "1319/1319 [==============================] - 13s 10ms/step - loss: 0.5588 - acc: 0.6664 - val_loss: 0.5681 - val_acc: 0.6586\n",
      "Epoch 17/20\n",
      "1319/1319 [==============================] - 13s 10ms/step - loss: 0.5607 - acc: 0.6730 - val_loss: 0.5985 - val_acc: 0.5747\n",
      "Epoch 18/20\n",
      "1319/1319 [==============================] - 13s 10ms/step - loss: 0.5657 - acc: 0.6596 - val_loss: 0.5564 - val_acc: 0.7051\n",
      "Epoch 19/20\n",
      "1319/1319 [==============================] - 13s 10ms/step - loss: 0.5637 - acc: 0.6725 - val_loss: 0.5679 - val_acc: 0.6667\n",
      "Epoch 20/20\n",
      "1319/1319 [==============================] - 13s 10ms/step - loss: 0.5609 - acc: 0.6662 - val_loss: 0.5745 - val_acc: 0.6586\n"
     ]
    }
   ],
   "source": [
    "history=model.fit(X_train, y_train,validation_data=(X_test,y_test),batch_size=128,epochs=20,shuffle=True)"
   ]
  },
  {
   "cell_type": "code",
   "execution_count": 104,
   "metadata": {},
   "outputs": [
    {
     "data": {
      "image/png": "[encoded data removed]",
      "text/plain": [
       "<matplotlib.figure.Figure at 0x1e6b7919f28>"
      ]
     },
     "metadata": {},
     "output_type": "display_data"
    },
    {
     "data": {
      "image/png": "[encoded data removed]",
      "text/plain": [
       "<matplotlib.figure.Figure at 0x1e6b92d5358>"
      ]
     },
     "metadata": {},
     "output_type": "display_data"
    }
   ],
   "source": [
    "import matplotlib.pyplot as plt\n",
    "acc = history.history['acc']\n",
    "val_acc = history.history['val_acc']\n",
    "loss = history.history['loss']\n",
    "val_loss = history.history['val_loss']\n",
    "epochs = range(1, len(acc) + 1)\n",
    "plt.plot(epochs, acc, 'bo', label='Training acc')\n",
    "plt.plot(epochs, val_acc, 'b', label='Validation acc')\n",
    "plt.title('Training and validation accuracy')\n",
    "plt.legend()\n",
    "plt.figure()\n",
    "plt.plot(epochs, loss, 'bo', label='Training loss')\n",
    "plt.plot(epochs, val_loss, 'b', label='Validation loss')\n",
    "plt.title('Training and validation loss')\n",
    "plt.legend()\n",
    "plt.show()"
   ]
  },
  {
   "cell_type": "markdown",
   "metadata": {},
   "source": [
    "we can see from the plots that there is no much overfitting through out the model. "
   ]
  },
  {
   "cell_type": "code",
   "execution_count": 105,
   "metadata": {},
   "outputs": [
    {
     "name": "stdout",
     "output_type": "stream",
     "text": [
      "1319/1319 [==============================] - 9s 7ms/step\n",
      "Test Loss: 0.5621866688437314 Test Accuracy: 0.6755117566590964\n"
     ]
    }
   ],
   "source": [
    "score = model.evaluate(X_train, y_train, verbose=1)\n",
    "print('Test Loss:', score[0], 'Test Accuracy:', score[1])"
   ]
  },
  {
   "cell_type": "code",
   "execution_count": 106,
   "metadata": {},
   "outputs": [
    {
     "name": "stdout",
     "output_type": "stream",
     "text": [
      "330/330 [==============================] - 3s 8ms/step\n"
     ]
    }
   ],
   "source": [
    "predictions = model.predict(X_test, verbose=1)"
   ]
  },
  {
   "cell_type": "code",
   "execution_count": 142,
   "metadata": {
    "collapsed": true
   },
   "outputs": [],
   "source": [
    "from sklearn.metrics import confusion_matrix"
   ]
  },
  {
   "cell_type": "code",
   "execution_count": 143,
   "metadata": {
    "collapsed": true
   },
   "outputs": [],
   "source": []
  },
  {
   "cell_type": "markdown",
   "metadata": {},
   "source": [
    "# Confusion Matrix"
   ]
  },
  {
   "cell_type": "code",
   "execution_count": 146,
   "metadata": {},
   "outputs": [
    {
     "data": {
      "text/plain": [
       "array([[  0,   0, 135],\n",
       "       [  0,   0,  34],\n",
       "       [  0,   0, 161]], dtype=int64)"
      ]
     },
     "execution_count": 146,
     "metadata": {},
     "output_type": "execute_result"
    }
   ],
   "source": [
    "cfm = confusion_matrix(y_test.argmax(axis=1), np.rint(predictions).argmax(axis=1))\n",
    "cfm"
   ]
  },
  {
   "cell_type": "markdown",
   "metadata": {},
   "source": [
    "# Glove Embeddings"
   ]
  },
  {
   "cell_type": "code",
   "execution_count": 149,
   "metadata": {
    "collapsed": true
   },
   "outputs": [],
   "source": [
    "import os\n",
    "import numpy as np"
   ]
  },
  {
   "cell_type": "code",
   "execution_count": 150,
   "metadata": {
    "collapsed": true
   },
   "outputs": [],
   "source": [
    "glove_dir = 'C:/Users/manoj/Desktop/deep_learning/NLP/glove/'"
   ]
  },
  {
   "cell_type": "code",
   "execution_count": 151,
   "metadata": {},
   "outputs": [
    {
     "data": {
      "text/plain": [
       "'C:/Users/manoj/Desktop/deep_learning/NLP/glove/'"
      ]
     },
     "execution_count": 151,
     "metadata": {},
     "output_type": "execute_result"
    }
   ],
   "source": [
    "glove_dir"
   ]
  },
  {
   "cell_type": "code",
   "execution_count": 152,
   "metadata": {},
   "outputs": [
    {
     "name": "stdout",
     "output_type": "stream",
     "text": [
      "Found 400000 word vectors.\n"
     ]
    }
   ],
   "source": [
    "embeddings_index = {}\n",
    "f = open(os.path.join(os.getcwd(), glove_dir, 'glove.6B.100d.txt'),encoding=\"utf8\")\n",
    "for line in f:\n",
    "    values = line.split()\n",
    "    word = values[0]\n",
    "    coefs = np.asarray(values[1:], dtype='float32')\n",
    "    embeddings_index[word] = coefs\n",
    "f.close()\n",
    "\n",
    "print('Found %s word vectors.' % len(embeddings_index))"
   ]
  },
  {
   "cell_type": "code",
   "execution_count": 153,
   "metadata": {
    "collapsed": true
   },
   "outputs": [],
   "source": [
    "embedding_dim = 100\n",
    "\n",
    "embedding_matrix = np.zeros((max_words, embedding_dim))\n",
    "for word, i in word_index.items():\n",
    "    embedding_vector = embeddings_index.get(word)\n",
    "    if i < max_words:\n",
    "        if embedding_vector is not None:\n",
    "            # Words not found in embedding index will be all-zeros.\n",
    "            embedding_matrix[i] = embedding_vector\n"
   ]
  },
  {
   "cell_type": "code",
   "execution_count": 154,
   "metadata": {},
   "outputs": [
    {
     "name": "stdout",
     "output_type": "stream",
     "text": [
      "_________________________________________________________________\n",
      "Layer (type)                 Output Shape              Param #   \n",
      "=================================================================\n",
      "embedding_15 (Embedding)     (None, 1000, 100)         100000    \n",
      "_________________________________________________________________\n",
      "flatten_7 (Flatten)          (None, 100000)            0         \n",
      "_________________________________________________________________\n",
      "dense_28 (Dense)             (None, 32)                3200032   \n",
      "_________________________________________________________________\n",
      "dense_29 (Dense)             (None, 3)                 99        \n",
      "=================================================================\n",
      "Total params: 3,300,131\n",
      "Trainable params: 3,300,131\n",
      "Non-trainable params: 0\n",
      "_________________________________________________________________\n"
     ]
    }
   ],
   "source": [
    "model = Sequential()\n",
    "model.add(Embedding(max_words, embedding_dim, input_length=1000))\n",
    "model.add(Flatten())\n",
    "model.add(Dense(32, activation='relu'))\n",
    "model.add(Dense(3, activation='softmax'))\n",
    "model.summary()"
   ]
  },
  {
   "cell_type": "markdown",
   "metadata": {},
   "source": [
    "Training the model using Glove Embeddings"
   ]
  },
  {
   "cell_type": "code",
   "execution_count": 155,
   "metadata": {
    "collapsed": true
   },
   "outputs": [],
   "source": [
    "model.layers[0].set_weights([embedding_matrix])\n",
    "model.layers[0].trainable = False"
   ]
  },
  {
   "cell_type": "code",
   "execution_count": 156,
   "metadata": {
    "collapsed": true
   },
   "outputs": [],
   "source": [
    "model.compile(loss='binary_crossentropy', optimizer='rmsprop', metrics=['accuracy'])"
   ]
  },
  {
   "cell_type": "code",
   "execution_count": 157,
   "metadata": {},
   "outputs": [
    {
     "name": "stdout",
     "output_type": "stream",
     "text": [
      "Train on 1319 samples, validate on 330 samples\n",
      "Epoch 1/20\n",
      "1319/1319 [==============================] - 3s 3ms/step - loss: 0.6231 - acc: 0.6722 - val_loss: 0.6087 - val_acc: 0.6798\n",
      "Epoch 2/20\n",
      "1319/1319 [==============================] - 2s 2ms/step - loss: 0.6046 - acc: 0.6788 - val_loss: 0.5946 - val_acc: 0.6838\n",
      "Epoch 3/20\n",
      "1319/1319 [==============================] - 2s 2ms/step - loss: 0.5923 - acc: 0.6813 - val_loss: 0.5841 - val_acc: 0.6838\n",
      "Epoch 4/20\n",
      "1319/1319 [==============================] - 2s 1ms/step - loss: 0.5826 - acc: 0.6821 - val_loss: 0.5755 - val_acc: 0.6838\n",
      "Epoch 5/20\n",
      "1319/1319 [==============================] - 2s 1ms/step - loss: 0.5741 - acc: 0.6821 - val_loss: 0.5687 - val_acc: 0.6838\n",
      "Epoch 6/20\n",
      "1319/1319 [==============================] - 2s 1ms/step - loss: 0.5669 - acc: 0.6821 - val_loss: 0.5627 - val_acc: 0.6838\n",
      "Epoch 7/20\n",
      "1319/1319 [==============================] - 2s 2ms/step - loss: 0.5604 - acc: 0.6821 - val_loss: 0.5576 - val_acc: 0.6838\n",
      "Epoch 8/20\n",
      "1319/1319 [==============================] - 2s 1ms/step - loss: 0.5550 - acc: 0.6821 - val_loss: 0.5537 - val_acc: 0.6838\n",
      "Epoch 9/20\n",
      "1319/1319 [==============================] - 2s 1ms/step - loss: 0.5505 - acc: 0.6821 - val_loss: 0.5502 - val_acc: 0.6838\n",
      "Epoch 10/20\n",
      "1319/1319 [==============================] - 2s 1ms/step - loss: 0.5469 - acc: 0.6821 - val_loss: 0.5478 - val_acc: 0.6838\n",
      "Epoch 11/20\n",
      "1319/1319 [==============================] - 2s 1ms/step - loss: 0.5441 - acc: 0.6821 - val_loss: 0.5458 - val_acc: 0.6838\n",
      "Epoch 12/20\n",
      "1319/1319 [==============================] - 2s 2ms/step - loss: 0.5420 - acc: 0.6821 - val_loss: 0.5448 - val_acc: 0.6838\n",
      "Epoch 13/20\n",
      "1319/1319 [==============================] - 2s 1ms/step - loss: 0.5405 - acc: 0.6821 - val_loss: 0.5444 - val_acc: 0.6838\n",
      "Epoch 14/20\n",
      "1319/1319 [==============================] - 2s 1ms/step - loss: 0.5396 - acc: 0.6821 - val_loss: 0.5439 - val_acc: 0.6838\n",
      "Epoch 15/20\n",
      "1319/1319 [==============================] - 2s 2ms/step - loss: 0.5393 - acc: 0.6821 - val_loss: 0.5437 - val_acc: 0.6838\n",
      "Epoch 16/20\n",
      "1319/1319 [==============================] - 2s 1ms/step - loss: 0.5388 - acc: 0.6821 - val_loss: 0.5437 - val_acc: 0.6838\n",
      "Epoch 17/20\n",
      "1319/1319 [==============================] - 2s 1ms/step - loss: 0.5388 - acc: 0.6821 - val_loss: 0.5441 - val_acc: 0.6838\n",
      "Epoch 18/20\n",
      "1319/1319 [==============================] - 2s 1ms/step - loss: 0.5386 - acc: 0.6821 - val_loss: 0.5444 - val_acc: 0.6838\n",
      "Epoch 19/20\n",
      "1319/1319 [==============================] - 2s 1ms/step - loss: 0.5385 - acc: 0.6821 - val_loss: 0.5442 - val_acc: 0.6838\n",
      "Epoch 20/20\n",
      "1319/1319 [==============================] - 2s 1ms/step - loss: 0.5386 - acc: 0.6821 - val_loss: 0.5445 - val_acc: 0.6838\n"
     ]
    }
   ],
   "source": [
    "history = model.fit(X_train, y_train,validation_data=(X_test,y_test),batch_size=128,epochs=20,shuffle=True)"
   ]
  },
  {
   "cell_type": "code",
   "execution_count": 159,
   "metadata": {},
   "outputs": [
    {
     "data": {
      "image/png": "[encoded data removed]",
      "text/plain": [
       "<matplotlib.figure.Figure at 0x1e6b3afc748>"
      ]
     },
     "metadata": {},
     "output_type": "display_data"
    },
    {
     "data": {
      "image/png": "[encoded data removed]",
      "text/plain": [
       "<matplotlib.figure.Figure at 0x1e6b933f2e8>"
      ]
     },
     "metadata": {},
     "output_type": "display_data"
    }
   ],
   "source": [
    "import matplotlib.pyplot as plt\n",
    "acc = history.history['acc']\n",
    "val_acc = history.history['val_acc']\n",
    "loss = history.history['loss']\n",
    "val_loss = history.history['val_loss']\n",
    "epochs = range(1, len(acc) + 1)\n",
    "plt.plot(epochs, acc, 'bo', label='Training acc')\n",
    "plt.plot(epochs, val_acc, 'b', label='Validation acc')\n",
    "plt.title('Training and validation accuracy')\n",
    "plt.legend()\n",
    "plt.figure()\n",
    "plt.plot(epochs, loss, 'bo', label='Training loss')\n",
    "plt.plot(epochs, val_loss, 'b', label='Validation loss')\n",
    "plt.title('Training and validation loss')\n",
    "plt.legend()\n",
    "plt.show()"
   ]
  },
  {
   "cell_type": "code",
   "execution_count": null,
   "metadata": {
    "collapsed": true
   },
   "outputs": [],
   "source": []
  },
  {
   "cell_type": "code",
   "execution_count": 160,
   "metadata": {},
   "outputs": [
    {
     "name": "stdout",
     "output_type": "stream",
     "text": [
      "1319/1319 [==============================] - 1s 821us/step\n",
      "Test Loss: 0.538267181577603 Test Accuracy: 0.6820824071256567\n"
     ]
    }
   ],
   "source": [
    "score = model.evaluate(X_train, y_train, verbose=1)\n",
    "print('Test Loss:', score[0], 'Test Accuracy:', score[1])"
   ]
  },
  {
   "cell_type": "code",
   "execution_count": 161,
   "metadata": {},
   "outputs": [
    {
     "name": "stdout",
     "output_type": "stream",
     "text": [
      "330/330 [==============================] - 1s 2ms/step\n"
     ]
    }
   ],
   "source": [
    "predictions = model.predict(X_test, verbose=1)"
   ]
  },
  {
   "cell_type": "code",
   "execution_count": 162,
   "metadata": {},
   "outputs": [
    {
     "data": {
      "text/plain": [
       "array([[135,   0,   0],\n",
       "       [ 34,   0,   0],\n",
       "       [144,   0,  17]], dtype=int64)"
      ]
     },
     "execution_count": 162,
     "metadata": {},
     "output_type": "execute_result"
    }
   ],
   "source": [
    "cfm = confusion_matrix(y_test.argmax(axis=1), np.rint(predictions).argmax(axis=1))\n",
    "cfm"
   ]
  },
  {
   "cell_type": "markdown",
   "metadata": {},
   "source": [
    "# BOW Model"
   ]
  },
  {
   "cell_type": "code",
   "execution_count": 163,
   "metadata": {},
   "outputs": [
    {
     "name": "stdout",
     "output_type": "stream",
     "text": [
      "(1649, 2)\n"
     ]
    },
    {
     "data": {
      "text/html": [
       "<div>\n",
       "<style>\n",
       "    .dataframe thead tr:only-child th {\n",
       "        text-align: right;\n",
       "    }\n",
       "\n",
       "    .dataframe thead th {\n",
       "        text-align: left;\n",
       "    }\n",
       "\n",
       "    .dataframe tbody tr th {\n",
       "        vertical-align: top;\n",
       "    }\n",
       "</style>\n",
       "<table border=\"1\" class=\"dataframe\">\n",
       "  <thead>\n",
       "    <tr style=\"text-align: right;\">\n",
       "      <th></th>\n",
       "      <th>Sentiment</th>\n",
       "      <th>Text</th>\n",
       "    </tr>\n",
       "  </thead>\n",
       "  <tbody>\n",
       "    <tr>\n",
       "      <th>0</th>\n",
       "      <td>neutral</td>\n",
       "      <td>Could you catch us up on your latest thinking ...</td>\n",
       "    </tr>\n",
       "    <tr>\n",
       "      <th>1</th>\n",
       "      <td>neutral</td>\n",
       "      <td>We continue to ramp up the activities for the ...</td>\n",
       "    </tr>\n",
       "    <tr>\n",
       "      <th>2</th>\n",
       "      <td>neutral</td>\n",
       "      <td>I think, we're …</td>\n",
       "    </tr>\n",
       "    <tr>\n",
       "      <th>3</th>\n",
       "      <td>neutral</td>\n",
       "      <td>Greg, I wonder if I just get a couple of clari...</td>\n",
       "    </tr>\n",
       "    <tr>\n",
       "      <th>4</th>\n",
       "      <td>negative</td>\n",
       "      <td>First, we successfully increased our wallet sh...</td>\n",
       "    </tr>\n",
       "  </tbody>\n",
       "</table>\n",
       "</div>"
      ],
      "text/plain": [
       "  Sentiment                                               Text\n",
       "0   neutral  Could you catch us up on your latest thinking ...\n",
       "1   neutral  We continue to ramp up the activities for the ...\n",
       "2   neutral                                   I think, we're …\n",
       "3   neutral  Greg, I wonder if I just get a couple of clari...\n",
       "4  negative  First, we successfully increased our wallet sh..."
      ]
     },
     "execution_count": 163,
     "metadata": {},
     "output_type": "execute_result"
    }
   ],
   "source": [
    "train = pd.read_csv(\"C:/Users/manoj/Downloads/cleaned_merged_data.csv\") \n",
    "train.Text=train.Text.astype(str) \n",
    "\n",
    "print(train.shape)\n",
    "train.head()"
   ]
  },
  {
   "cell_type": "code",
   "execution_count": 164,
   "metadata": {
    "collapsed": true
   },
   "outputs": [],
   "source": [
    "train['Sentiment'] = train['Sentiment'].replace({'positive': 0,'negative':1,'neutral':2})\n",
    "\n",
    "X, y = (train['Text'].values, train['Sentiment'].values)"
   ]
  },
  {
   "cell_type": "code",
   "execution_count": 165,
   "metadata": {
    "collapsed": true
   },
   "outputs": [],
   "source": [
    "from keras.preprocessing.text import Tokenizer\n",
    "from keras.preprocessing.sequence import pad_sequences\n",
    "tk = Tokenizer(num_words=max_words)\n",
    "tk.fit_on_texts(X)\n",
    "X = tk.texts_to_matrix(X, mode='freq')\n"
   ]
  },
  {
   "cell_type": "code",
   "execution_count": null,
   "metadata": {
    "collapsed": true
   },
   "outputs": [],
   "source": [
    "\n"
   ]
  },
  {
   "cell_type": "code",
   "execution_count": 166,
   "metadata": {
    "collapsed": true
   },
   "outputs": [],
   "source": [
    "from sklearn.model_selection import train_test_split\n",
    "X_train, X_test, y_train, y_test = train_test_split(X, y, test_size = 0.2, random_state = 1)"
   ]
  },
  {
   "cell_type": "code",
   "execution_count": 167,
   "metadata": {
    "collapsed": true
   },
   "outputs": [],
   "source": [
    "import numpy as np\n",
    "from keras.utils import to_categorical\n",
    "num_classes = len(np.unique(y_train))\n",
    "y_train = to_categorical(y_train, num_classes)\n",
    "y_test = to_categorical(y_test, num_classes)"
   ]
  },
  {
   "cell_type": "code",
   "execution_count": 168,
   "metadata": {},
   "outputs": [
    {
     "name": "stdout",
     "output_type": "stream",
     "text": [
      "_________________________________________________________________\n",
      "Layer (type)                 Output Shape              Param #   \n",
      "=================================================================\n",
      "dense_30 (Dense)             (None, 50)                50050     \n",
      "_________________________________________________________________\n",
      "dense_31 (Dense)             (None, 3)                 153       \n",
      "=================================================================\n",
      "Total params: 50,203\n",
      "Trainable params: 50,203\n",
      "Non-trainable params: 0\n",
      "_________________________________________________________________\n"
     ]
    }
   ],
   "source": [
    "n_words = X.shape[1]\n",
    "\n",
    "model = Sequential()\n",
    "\n",
    "model.add(Dense(50, input_shape=(n_words,), activation='relu'))\n",
    "model.add(Dense(3, activation='softmax'))\n",
    "model.compile(loss='binary_crossentropy', optimizer='rmsprop', metrics=['accuracy'])\n",
    "model.summary()"
   ]
  },
  {
   "cell_type": "code",
   "execution_count": 169,
   "metadata": {},
   "outputs": [
    {
     "name": "stdout",
     "output_type": "stream",
     "text": [
      "Train on 1319 samples, validate on 330 samples\n",
      "Epoch 1/20\n",
      "1319/1319 [==============================] - 1s 964us/step - loss: 0.6235 - acc: 0.6667 - val_loss: 0.6108 - val_acc: 0.6667\n",
      "Epoch 2/20\n",
      "1319/1319 [==============================] - 0s 45us/step - loss: 0.6026 - acc: 0.6667 - val_loss: 0.5950 - val_acc: 0.6667\n",
      "Epoch 3/20\n",
      "1319/1319 [==============================] - 0s 46us/step - loss: 0.5867 - acc: 0.6667 - val_loss: 0.5809 - val_acc: 0.6667\n",
      "Epoch 4/20\n",
      "1319/1319 [==============================] - 0s 45us/step - loss: 0.5720 - acc: 0.6667 - val_loss: 0.5677 - val_acc: 0.6667\n",
      "Epoch 5/20\n",
      "1319/1319 [==============================] - 0s 46us/step - loss: 0.5583 - acc: 0.6732 - val_loss: 0.5557 - val_acc: 0.7020\n",
      "Epoch 6/20\n",
      "1319/1319 [==============================] - 0s 46us/step - loss: 0.5458 - acc: 0.7015 - val_loss: 0.5445 - val_acc: 0.7111\n",
      "Epoch 7/20\n",
      "1319/1319 [==============================] - 0s 45us/step - loss: 0.5345 - acc: 0.7154 - val_loss: 0.5354 - val_acc: 0.7253\n",
      "Epoch 8/20\n",
      "1319/1319 [==============================] - 0s 45us/step - loss: 0.5246 - acc: 0.7250 - val_loss: 0.5273 - val_acc: 0.7354\n",
      "Epoch 9/20\n",
      "1319/1319 [==============================] - 0s 45us/step - loss: 0.5158 - acc: 0.7344 - val_loss: 0.5190 - val_acc: 0.7354\n",
      "Epoch 10/20\n",
      "1319/1319 [==============================] - 0s 48us/step - loss: 0.5076 - acc: 0.7460 - val_loss: 0.5125 - val_acc: 0.7434\n",
      "Epoch 11/20\n",
      "1319/1319 [==============================] - 0s 46us/step - loss: 0.4998 - acc: 0.7546 - val_loss: 0.5066 - val_acc: 0.7545\n",
      "Epoch 12/20\n",
      "1319/1319 [==============================] - 0s 48us/step - loss: 0.4926 - acc: 0.7741 - val_loss: 0.5000 - val_acc: 0.7657\n",
      "Epoch 13/20\n",
      "1319/1319 [==============================] - 0s 46us/step - loss: 0.4858 - acc: 0.7827 - val_loss: 0.4940 - val_acc: 0.7788\n",
      "Epoch 14/20\n",
      "1319/1319 [==============================] - 0s 47us/step - loss: 0.4792 - acc: 0.7948 - val_loss: 0.4885 - val_acc: 0.7838\n",
      "Epoch 15/20\n",
      "1319/1319 [==============================] - 0s 42us/step - loss: 0.4731 - acc: 0.8024 - val_loss: 0.4826 - val_acc: 0.8000\n",
      "Epoch 16/20\n",
      "1319/1319 [==============================] - 0s 46us/step - loss: 0.4670 - acc: 0.8074 - val_loss: 0.4786 - val_acc: 0.7970\n",
      "Epoch 17/20\n",
      "1319/1319 [==============================] - 0s 47us/step - loss: 0.4614 - acc: 0.8137 - val_loss: 0.4736 - val_acc: 0.8010\n",
      "Epoch 18/20\n",
      "1319/1319 [==============================] - 0s 45us/step - loss: 0.4559 - acc: 0.8153 - val_loss: 0.4692 - val_acc: 0.8020\n",
      "Epoch 19/20\n",
      "1319/1319 [==============================] - 0s 47us/step - loss: 0.4508 - acc: 0.8168 - val_loss: 0.4666 - val_acc: 0.8061\n",
      "Epoch 20/20\n",
      "1319/1319 [==============================] - 0s 46us/step - loss: 0.4458 - acc: 0.8178 - val_loss: 0.4607 - val_acc: 0.8091\n"
     ]
    }
   ],
   "source": [
    "history=model.fit(X_train, y_train,validation_data=(X_test,y_test),batch_size=128,epochs=20,shuffle=True)"
   ]
  },
  {
   "cell_type": "code",
   "execution_count": 170,
   "metadata": {},
   "outputs": [
    {
     "data": {
      "image/png": "[encoded data removed]",
      "text/plain": [
       "<matplotlib.figure.Figure at 0x1e6b878ed68>"
      ]
     },
     "metadata": {},
     "output_type": "display_data"
    },
    {
     "data": {
      "image/png": "[encoded data removed]",
      "text/plain": [
       "<matplotlib.figure.Figure at 0x1e6b87baba8>"
      ]
     },
     "metadata": {},
     "output_type": "display_data"
    }
   ],
   "source": [
    "import matplotlib.pyplot as plt\n",
    "acc = history.history['acc']\n",
    "val_acc = history.history['val_acc']\n",
    "loss = history.history['loss']\n",
    "val_loss = history.history['val_loss']\n",
    "epochs = range(1, len(acc) + 1)\n",
    "plt.plot(epochs, acc, 'bo', label='Training acc')\n",
    "plt.plot(epochs, val_acc, 'b', label='Validation acc')\n",
    "plt.title('Training and validation accuracy')\n",
    "plt.legend()\n",
    "plt.figure()\n",
    "plt.plot(epochs, loss, 'bo', label='Training loss')\n",
    "plt.plot(epochs, val_loss, 'b', label='Validation loss')\n",
    "plt.title('Training and validation loss')\n",
    "plt.legend()\n",
    "plt.show()"
   ]
  },
  {
   "cell_type": "code",
   "execution_count": 171,
   "metadata": {},
   "outputs": [
    {
     "name": "stdout",
     "output_type": "stream",
     "text": [
      "1319/1319 [==============================] - 0s 46us/step\n",
      "Test Loss: 0.4419598475697368 Test Accuracy: 0.8205711600272559\n"
     ]
    }
   ],
   "source": [
    "score = model.evaluate(X_train, y_train, verbose=1)\n",
    "print('Test Loss:', score[0], 'Test Accuracy:', score[1])"
   ]
  },
  {
   "cell_type": "code",
   "execution_count": 172,
   "metadata": {},
   "outputs": [
    {
     "name": "stdout",
     "output_type": "stream",
     "text": [
      "330/330 [==============================] - 0s 1ms/step\n"
     ]
    }
   ],
   "source": [
    "predictions = model.predict(X_test, verbose=1)"
   ]
  },
  {
   "cell_type": "code",
   "execution_count": 173,
   "metadata": {},
   "outputs": [
    {
     "data": {
      "text/plain": [
       "array([[120,   0,  15],\n",
       "       [ 25,   0,   9],\n",
       "       [ 54,   0, 107]], dtype=int64)"
      ]
     },
     "execution_count": 173,
     "metadata": {},
     "output_type": "execute_result"
    }
   ],
   "source": [
    "cfm = confusion_matrix(y_test.argmax(axis=1), np.rint(predictions).argmax(axis=1))\n",
    "cfm"
   ]
  },
  {
   "cell_type": "code",
   "execution_count": null,
   "metadata": {
    "collapsed": true
   },
   "outputs": [],
   "source": []
  }
 ],
 "metadata": {
  "kernelspec": {
   "display_name": "Python 3",
   "language": "python",
   "name": "python3"
  },
  "language_info": {
   "codemirror_mode": {
    "name": "ipython",
    "version": 3
   },
   "file_extension": ".py",
   "mimetype": "text/x-python",
   "name": "python",
   "nbconvert_exporter": "python",
   "pygments_lexer": "ipython3",
   "version": "3.6.3"
  }
 },
 "nbformat": 4,
 "nbformat_minor": 2
}
